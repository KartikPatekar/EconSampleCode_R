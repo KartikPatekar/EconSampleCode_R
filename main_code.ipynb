{
 "cells": [
  {
   "cell_type": "markdown",
   "id": "8b4e9fe9",
   "metadata": {},
   "source": [
    "Libraries and Useful functions"
   ]
  },
  {
   "cell_type": "code",
   "execution_count": 22,
   "id": "adf1b3b4",
   "metadata": {},
   "outputs": [],
   "source": [
    "library(\"haven\")\n",
    "library(\"lfe\")\n",
    "library(\"miceadds\")\n",
    "library(\"estimatr\")\n",
    "library(\"quantreg\")\n",
    "library(\"qte\")\n",
    "\n",
    "round_auto <- function(number) {\n",
    "    \n",
    "    if(is.nan(number)){ return(number)}\n",
    "    \n",
    "    if(number == 0){\n",
    "        return(0)\n",
    "    }\n",
    "    \n",
    "    dist <- as.integer(log10(abs(number))) #number of zeros after decimal point\n",
    "    res <- round(number,digits = 2)\n",
    "    \n",
    "    if(dist == 0){\n",
    "        res = round(number, digits = 3)\n",
    "    }\n",
    "    \n",
    "    if(dist<0) {\n",
    "        res = round(number, digits = abs(dist) + 2)\n",
    "    }\n",
    "    return(res)\n",
    "}"
   ]
  },
  {
   "cell_type": "markdown",
   "id": "3cc1ed70",
   "metadata": {},
   "source": [
    "### Context  \n",
    "\n",
    "In the following, I have attempted to reproduce the results from the paper \"The Miracle of Microfinance? Evidence from a Randomized Evaluation\" (doi: 10.1257/app.20130533). The data was available at following link: https://www.openicpsr.org/openicpsr/project/113599/version/V1/view \n",
    "\n",
    "Treatment - Microfinance institutions (MFIs) were opened by Spandana in 52 out of 104 poor neighbourhoods of Hyderabad, India.\n",
    "First endline - 15-18 months after treatment\n",
    "Second endline - 2 years after first endline. \n",
    "\n",
    "During the exepriment, other MFIs also opened in both treatment and control neighbourhoods. However, usage of credit was higher (p<0.01) in treated areas compared to non-treated areas and hence the analysis could be performed."
   ]
  },
  {
   "cell_type": "markdown",
   "id": "512e09ff",
   "metadata": {},
   "source": [
    "# Data Aquisition and Exploration"
   ]
  },
  {
   "cell_type": "code",
   "execution_count": 2,
   "id": "7291f2b8",
   "metadata": {},
   "outputs": [],
   "source": [
    "data_loc <- \"data//microfinance//\""
   ]
  },
  {
   "cell_type": "code",
   "execution_count": 3,
   "id": "b0ee4410",
   "metadata": {},
   "outputs": [],
   "source": [
    "census_data <- read_dta(paste0(data_loc, \"2013-0533_data_census.dta\"))\n",
    "baseline_data <- read_dta(paste0(data_loc, \"2013-0533_data_baseline.dta\"))\n",
    "endline_data <- read_dta(paste0(data_loc, \"2013-0533_data_endlines1and2.dta\"))\n",
    "el_business_data <- read_dta(paste0(data_loc, \"2013-0533_data_endline1businesstype.dta\"))\n"
   ]
  },
  {
   "cell_type": "code",
   "execution_count": 4,
   "id": "d0b8f49b",
   "metadata": {},
   "outputs": [],
   "source": [
    "baseline_data <- baseline_data[order(baseline_data$hhid_baseline, decreasing = FALSE), ]\n",
    "baseline_data <- baseline_data[order(baseline_data$areaid, decreasing = FALSE), ]\n",
    "\n",
    "#Remove areas not relevant in experiment (areas with high migrant population)\n",
    "baseline_data <- baseline_data[baseline_data$area_dropped == 0, ]"
   ]
  },
  {
   "cell_type": "markdown",
   "id": "f1c3e964",
   "metadata": {},
   "source": [
    "Due to expediency requirements, the baseline survey was not performed rigorously and hence author's felt that the sample was not representative. Hence, baseline survey was used for stratification and to obtain control variables at area level, but was not used for treatment effect analysis."
   ]
  },
  {
   "cell_type": "code",
   "execution_count": 5,
   "id": "67ea0b0f",
   "metadata": {},
   "outputs": [
    {
     "name": "stdout",
     "output_type": "stream",
     "text": [
      "[1] \"Attrition between two endlines = 10.51%\"\n"
     ]
    }
   ],
   "source": [
    "attr_pct = 100.0*sum(endline_data$sample2 == 0) / sum(endline_data$sample1 == 1)\n",
    "attr_pct = paste0(round_auto(attr_pct), \"%\")\n",
    "print(paste0(\"Attrition between two endlines = \", attr_pct))"
   ]
  },
  {
   "cell_type": "code",
   "execution_count": 6,
   "id": "6729eb4e",
   "metadata": {},
   "outputs": [
    {
     "data": {
      "text/html": [
       "<style>\n",
       ".list-inline {list-style: none; margin:0; padding: 0}\n",
       ".list-inline>li {display: inline-block}\n",
       ".list-inline>li:not(:last-child)::after {content: \"\\00b7\"; padding: 0 .5ex}\n",
       "</style>\n",
       "<ol class=list-inline><li>'hhid_baseline'</li><li>'areaid'</li><li>'area_dropped'</li><li>'treatment'</li><li>'hh_size'</li><li>'adults'</li><li>'children'</li><li>'male_head'</li><li>'head_age'</li><li>'head_noeduc'</li><li>'spandana'</li><li>'othermfi'</li><li>'bank'</li><li>'informal'</li><li>'anyloan'</li><li>'spandana_amt'</li><li>'othermfi_amt'</li><li>'bank_amt'</li><li>'informal_amt'</li><li>'anyloan_amt'</li><li>'total_biz'</li><li>'female_biz'</li><li>'female_biz_pct'</li><li>'bizrev'</li><li>'bizexpense'</li><li>'bizinvestment'</li><li>'bizemployees'</li><li>'hours_weekbiz'</li><li>'total_exp_mo'</li><li>'nondurable_exp_mo'</li><li>'durables_exp_mo'</li><li>'home_durable_index'</li></ol>\n"
      ],
      "text/latex": [
       "\\begin{enumerate*}\n",
       "\\item 'hhid\\_baseline'\n",
       "\\item 'areaid'\n",
       "\\item 'area\\_dropped'\n",
       "\\item 'treatment'\n",
       "\\item 'hh\\_size'\n",
       "\\item 'adults'\n",
       "\\item 'children'\n",
       "\\item 'male\\_head'\n",
       "\\item 'head\\_age'\n",
       "\\item 'head\\_noeduc'\n",
       "\\item 'spandana'\n",
       "\\item 'othermfi'\n",
       "\\item 'bank'\n",
       "\\item 'informal'\n",
       "\\item 'anyloan'\n",
       "\\item 'spandana\\_amt'\n",
       "\\item 'othermfi\\_amt'\n",
       "\\item 'bank\\_amt'\n",
       "\\item 'informal\\_amt'\n",
       "\\item 'anyloan\\_amt'\n",
       "\\item 'total\\_biz'\n",
       "\\item 'female\\_biz'\n",
       "\\item 'female\\_biz\\_pct'\n",
       "\\item 'bizrev'\n",
       "\\item 'bizexpense'\n",
       "\\item 'bizinvestment'\n",
       "\\item 'bizemployees'\n",
       "\\item 'hours\\_weekbiz'\n",
       "\\item 'total\\_exp\\_mo'\n",
       "\\item 'nondurable\\_exp\\_mo'\n",
       "\\item 'durables\\_exp\\_mo'\n",
       "\\item 'home\\_durable\\_index'\n",
       "\\end{enumerate*}\n"
      ],
      "text/markdown": [
       "1. 'hhid_baseline'\n",
       "2. 'areaid'\n",
       "3. 'area_dropped'\n",
       "4. 'treatment'\n",
       "5. 'hh_size'\n",
       "6. 'adults'\n",
       "7. 'children'\n",
       "8. 'male_head'\n",
       "9. 'head_age'\n",
       "10. 'head_noeduc'\n",
       "11. 'spandana'\n",
       "12. 'othermfi'\n",
       "13. 'bank'\n",
       "14. 'informal'\n",
       "15. 'anyloan'\n",
       "16. 'spandana_amt'\n",
       "17. 'othermfi_amt'\n",
       "18. 'bank_amt'\n",
       "19. 'informal_amt'\n",
       "20. 'anyloan_amt'\n",
       "21. 'total_biz'\n",
       "22. 'female_biz'\n",
       "23. 'female_biz_pct'\n",
       "24. 'bizrev'\n",
       "25. 'bizexpense'\n",
       "26. 'bizinvestment'\n",
       "27. 'bizemployees'\n",
       "28. 'hours_weekbiz'\n",
       "29. 'total_exp_mo'\n",
       "30. 'nondurable_exp_mo'\n",
       "31. 'durables_exp_mo'\n",
       "32. 'home_durable_index'\n",
       "\n",
       "\n"
      ],
      "text/plain": [
       " [1] \"hhid_baseline\"      \"areaid\"             \"area_dropped\"      \n",
       " [4] \"treatment\"          \"hh_size\"            \"adults\"            \n",
       " [7] \"children\"           \"male_head\"          \"head_age\"          \n",
       "[10] \"head_noeduc\"        \"spandana\"           \"othermfi\"          \n",
       "[13] \"bank\"               \"informal\"           \"anyloan\"           \n",
       "[16] \"spandana_amt\"       \"othermfi_amt\"       \"bank_amt\"          \n",
       "[19] \"informal_amt\"       \"anyloan_amt\"        \"total_biz\"         \n",
       "[22] \"female_biz\"         \"female_biz_pct\"     \"bizrev\"            \n",
       "[25] \"bizexpense\"         \"bizinvestment\"      \"bizemployees\"      \n",
       "[28] \"hours_weekbiz\"      \"total_exp_mo\"       \"nondurable_exp_mo\" \n",
       "[31] \"durables_exp_mo\"    \"home_durable_index\""
      ]
     },
     "metadata": {},
     "output_type": "display_data"
    }
   ],
   "source": [
    "names(baseline_data)"
   ]
  },
  {
   "cell_type": "code",
   "execution_count": 7,
   "id": "2743ef6d",
   "metadata": {},
   "outputs": [],
   "source": [
    "options(repr.plot.width=8, repr.plot.height=6)\n",
    "\n",
    "compare_baseline_data_binary <- function(name, title_plot){\n",
    "    treatment_bdata <- baseline_data[baseline_data$treatment == 1,][[name]]\n",
    "    control_bdata <- baseline_data[baseline_data$treatment == 0,][[name]]\n",
    "    \n",
    "    \n",
    "    average_val = c(sum(treatment_bdata, na.rm = TRUE)/sum(!is.na(treatment_bdata)) ,\n",
    "                    sum(control_bdata, na.rm = TRUE)/sum(!is.na(control_bdata)) )\n",
    "    \n",
    "    group = c(\"treatment\", \"control\")\n",
    "    colors = c(\"red\", \"blue\")\n",
    "    \n",
    "    barplot(height = average_val, names.arg = group, col = colors, ylim = c(0,1))\n",
    "    title(title_plot)\n",
    "}\n",
    "\n",
    "compare_baseline_data_continous <- function(name, title_plot){\n",
    "    treatment_bdata <- baseline_data[baseline_data$treatment == 1,][[name]]\n",
    "    control_bdata <- baseline_data[baseline_data$treatment == 0,][[name]]\n",
    "    \n",
    "    treatment_bdata <- treatment_bdata[!is.na(treatment_bdata)]\n",
    "    control_bdata <- control_bdata[!is.na(control_bdata)]\n",
    "    \n",
    "    \n",
    "    b = min(c(treatment_bdata, control_bdata))\n",
    "    e = max(c(treatment_bdata, control_bdata))\n",
    "    ax = pretty(b:e, n = 12)\n",
    "    \n",
    "    c1 <- rgb(255,0,0, max = 255, alpha = 120, names = \"lt.pink\")\n",
    "    c2 <- rgb(100,0,255,max = 255, alpha = 150, names = \"lt.blue\")\n",
    "    c_overlap <- rgb(220,0,255,max = 255, alpha = 200, names = \"lt.blue\")\n",
    "    \n",
    "    hg_treat <- hist(treatment_bdata, breaks = ax, plot = FALSE, right = FALSE) # Save first histogram data\n",
    "    hg_control <- hist(control_bdata, breaks = ax, plot = FALSE, right = FALSE) # Save 2nd histogram data\n",
    "\n",
    "    legend(\"topright\", legend=c(\"treatment\", \"control\", \"overlap\"),  fill = c(c1, c2, c_overlap))\n",
    "\n",
    "    plot(hg_treat, col = c1) # Plot 1st histogram using a transparent color\n",
    "    plot(hg_control, col = c2, add = TRUE) # Add 2nd histogram using different color\\\n",
    "    title(title_plot)\n",
    "    \n",
    "}"
   ]
  },
  {
   "cell_type": "code",
   "execution_count": 8,
   "id": "cd559526",
   "metadata": {
    "scrolled": false
   },
   "outputs": [
    {
     "data": {
      "image/png": "[encoded data removed]",
      "text/plain": [
       "Plot with title \"Household head uneduprinted\""
      ]
     },
     "metadata": {
      "image/png": {
       "height": 360,
       "width": 480
      }
     },
     "output_type": "display_data"
    },
    {
     "data": {
      "image/png": "[encoded data removed]",
      "text/plain": [
       "Plot with title \"Household has any loan\""
      ]
     },
     "metadata": {
      "image/png": {
       "height": 360,
       "width": 480
      }
     },
     "output_type": "display_data"
    },
    {
     "data": {
      "image/png": "[encoded data removed]",
      "text/plain": [
       "Plot with title \"Household has spandana loan\""
      ]
     },
     "metadata": {
      "image/png": {
       "height": 360,
       "width": 480
      }
     },
     "output_type": "display_data"
    },
    {
     "data": {
      "image/png": "[encoded data removed]",
      "text/plain": [
       "Plot with title \"Num children in household\""
      ]
     },
     "metadata": {
      "image/png": {
       "height": 360,
       "width": 480
      }
     },
     "output_type": "display_data"
    },
    {
     "data": {
      "image/png": "[encoded data removed]",
      "text/plain": [
       "Plot with title \"Num adults in household\""
      ]
     },
     "metadata": {
      "image/png": {
       "height": 360,
       "width": 480
      }
     },
     "output_type": "display_data"
    }
   ],
   "source": [
    "compare_baseline_data_binary(\"head_noeduc\", \"Household head uneduprinted\")\n",
    "\n",
    "compare_baseline_data_binary(\"anyloan\",\"Household has any loan\")\n",
    "\n",
    "compare_baseline_data_binary(\"spandana\", \"Household has spandana loan\")\n",
    "\n",
    "compare_baseline_data_continous(\"children\" ,\"Num children in household\")\n",
    "\n",
    "compare_baseline_data_continous(\"adults\", \"Num adults in household\")"
   ]
  },
  {
   "cell_type": "markdown",
   "id": "2fb214bb",
   "metadata": {},
   "source": [
    "# Baseline summary"
   ]
  },
  {
   "cell_type": "code",
   "execution_count": 11,
   "id": "6d434cd4",
   "metadata": {},
   "outputs": [],
   "source": [
    "baseline_summary <- function(row_list) {\n",
    "    \n",
    "    col_list = c(\"characteristic\", \"T_mean\", \"T_std\", \"C_mean\", \"C_std\", \"diff\",  \"N\", \"t_val\", \"p_pal\", \"sig\")\n",
    "    summary_res <- data.frame(matrix(nrow = 0, ncol = length(col_list)))\n",
    "    colnames(summary_res) <- col_list\n",
    "    \n",
    "    baseline_treatment <- baseline_data[ baseline_data$treatment == 1 ,  ]\n",
    "    baseline_control <- baseline_data[ baseline_data$treatment == 0 ,  ]\n",
    "        \n",
    "    for (name in row_list){\n",
    "        \n",
    "        T_mean <- mean(baseline_treatment[[name]], na.rm = TRUE)       \n",
    "        T_std <- sd(baseline_treatment[[name]], na.rm = TRUE)\n",
    "        \n",
    "        C_mean <- mean(baseline_control[[name]], na.rm = TRUE)\n",
    "        C_std <- sd(baseline_control[[name]], na.rm = TRUE)\n",
    "        \n",
    "        diff <- T_mean - C_mean\n",
    "        \n",
    "        N1 <- sum(!is.na(baseline_treatment[[name]]))\n",
    "        N2 <- sum(!is.na(baseline_control[[name]]))\n",
    "        \n",
    "        N <- N1 + N2 \n",
    "        \n",
    "        \n",
    "        t_val <- (diff)/sqrt(((N1-1)*T_std**2 + (N2-1)*C_std**2)/(N - 2) * (1.0/N1 + 1.0/N2))\n",
    "        p_val <- 2*pt(t_val, df = N-2, lower.tail = FALSE)\n",
    "#        t_val <- abs(diff)/sqrt(((N1-1)*T_std**2 + (N2-1)*C_std**2)/(N - 2) * (1.0/N1 + 1.0/N2))\n",
    "#        p_val <- 1-pt(t_val, df = 102)\n",
    "        \n",
    "        T_mean <- round_auto(T_mean)\n",
    "        T_std <- round_auto(T_std)\n",
    "        C_mean <- round_auto(C_mean)\n",
    "        C_std <- round_auto(C_std)\n",
    "        diff <- round_auto(diff)\n",
    "\n",
    "        t_val <- round_auto(t_val)\n",
    "        p_val <- round_auto(p_val)\n",
    "        \n",
    "        sig <- \"\"\n",
    "        if(p_val<0.1){sig <- \"*\"}\n",
    "        if(p_val<0.05){sig <- \"**\"}\n",
    "        if(p_val<0.01){sig <- \"***\"}\n",
    "        \n",
    "        summary_res[nrow(summary_res) + 1,] = c(name,T_mean, T_std, C_mean, C_std, diff ,N ,t_val,p_val,sig)\n",
    "    }\n",
    "    \n",
    "    return(summary_res)\n",
    "}\n"
   ]
  },
  {
   "cell_type": "code",
   "execution_count": 12,
   "id": "ebf617e9",
   "metadata": {},
   "outputs": [
    {
     "name": "stdout",
     "output_type": "stream",
     "text": [
      "----------------------\n",
      " Household Composition"
     ]
    },
    {
     "data": {
      "text/html": [
       "<table class=\"dataframe\">\n",
       "<caption>A data.frame: 6 × 10</caption>\n",
       "<thead>\n",
       "\t<tr><th></th><th scope=col>characteristic</th><th scope=col>T_mean</th><th scope=col>T_std</th><th scope=col>C_mean</th><th scope=col>C_std</th><th scope=col>diff</th><th scope=col>N</th><th scope=col>t_val</th><th scope=col>p_pal</th><th scope=col>sig</th></tr>\n",
       "\t<tr><th></th><th scope=col>&lt;chr&gt;</th><th scope=col>&lt;chr&gt;</th><th scope=col>&lt;chr&gt;</th><th scope=col>&lt;chr&gt;</th><th scope=col>&lt;chr&gt;</th><th scope=col>&lt;chr&gt;</th><th scope=col>&lt;chr&gt;</th><th scope=col>&lt;chr&gt;</th><th scope=col>&lt;chr&gt;</th><th scope=col>&lt;chr&gt;</th></tr>\n",
       "</thead>\n",
       "<tbody>\n",
       "\t<tr><th scope=row>1</th><td>hh_size    </td><td>5.133</td><td>1.785</td><td>5.038</td><td>1.666</td><td>0.095  </td><td>2440</td><td>1.36  </td><td>0.174</td><td>  </td></tr>\n",
       "\t<tr><th scope=row>2</th><td>adults     </td><td>3.427</td><td>1.52 </td><td>3.439</td><td>1.466</td><td>-0.011 </td><td>2440</td><td>-0.19 </td><td>1.151</td><td>  </td></tr>\n",
       "\t<tr><th scope=row>3</th><td>children   </td><td>1.703</td><td>1.242</td><td>1.599</td><td>1.228</td><td>0.104  </td><td>2440</td><td>2.082 </td><td>0.037</td><td>**</td></tr>\n",
       "\t<tr><th scope=row>4</th><td>male_head  </td><td>0.895</td><td>0.307</td><td>0.907</td><td>0.29 </td><td>-0.012 </td><td>2433</td><td>-1.011</td><td>1.688</td><td>  </td></tr>\n",
       "\t<tr><th scope=row>5</th><td>head_age   </td><td>40.91</td><td>10.89</td><td>41.15</td><td>10.84</td><td>-0.243 </td><td>2431</td><td>-0.553</td><td>1.419</td><td>  </td></tr>\n",
       "\t<tr><th scope=row>6</th><td>head_noeduc</td><td>0.362</td><td>0.481</td><td>0.37 </td><td>0.483</td><td>-0.0077</td><td>2433</td><td>-0.394</td><td>1.306</td><td>  </td></tr>\n",
       "</tbody>\n",
       "</table>\n"
      ],
      "text/latex": [
       "A data.frame: 6 × 10\n",
       "\\begin{tabular}{r|llllllllll}\n",
       "  & characteristic & T\\_mean & T\\_std & C\\_mean & C\\_std & diff & N & t\\_val & p\\_pal & sig\\\\\n",
       "  & <chr> & <chr> & <chr> & <chr> & <chr> & <chr> & <chr> & <chr> & <chr> & <chr>\\\\\n",
       "\\hline\n",
       "\t1 & hh\\_size     & 5.133 & 1.785 & 5.038 & 1.666 & 0.095   & 2440 & 1.36   & 0.174 &   \\\\\n",
       "\t2 & adults      & 3.427 & 1.52  & 3.439 & 1.466 & -0.011  & 2440 & -0.19  & 1.151 &   \\\\\n",
       "\t3 & children    & 1.703 & 1.242 & 1.599 & 1.228 & 0.104   & 2440 & 2.082  & 0.037 & **\\\\\n",
       "\t4 & male\\_head   & 0.895 & 0.307 & 0.907 & 0.29  & -0.012  & 2433 & -1.011 & 1.688 &   \\\\\n",
       "\t5 & head\\_age    & 40.91 & 10.89 & 41.15 & 10.84 & -0.243  & 2431 & -0.553 & 1.419 &   \\\\\n",
       "\t6 & head\\_noeduc & 0.362 & 0.481 & 0.37  & 0.483 & -0.0077 & 2433 & -0.394 & 1.306 &   \\\\\n",
       "\\end{tabular}\n"
      ],
      "text/markdown": [
       "\n",
       "A data.frame: 6 × 10\n",
       "\n",
       "| <!--/--> | characteristic &lt;chr&gt; | T_mean &lt;chr&gt; | T_std &lt;chr&gt; | C_mean &lt;chr&gt; | C_std &lt;chr&gt; | diff &lt;chr&gt; | N &lt;chr&gt; | t_val &lt;chr&gt; | p_pal &lt;chr&gt; | sig &lt;chr&gt; |\n",
       "|---|---|---|---|---|---|---|---|---|---|---|\n",
       "| 1 | hh_size     | 5.133 | 1.785 | 5.038 | 1.666 | 0.095   | 2440 | 1.36   | 0.174 | <!----> |\n",
       "| 2 | adults      | 3.427 | 1.52  | 3.439 | 1.466 | -0.011  | 2440 | -0.19  | 1.151 | <!----> |\n",
       "| 3 | children    | 1.703 | 1.242 | 1.599 | 1.228 | 0.104   | 2440 | 2.082  | 0.037 | ** |\n",
       "| 4 | male_head   | 0.895 | 0.307 | 0.907 | 0.29  | -0.012  | 2433 | -1.011 | 1.688 | <!----> |\n",
       "| 5 | head_age    | 40.91 | 10.89 | 41.15 | 10.84 | -0.243  | 2431 | -0.553 | 1.419 | <!----> |\n",
       "| 6 | head_noeduc | 0.362 | 0.481 | 0.37  | 0.483 | -0.0077 | 2433 | -0.394 | 1.306 | <!----> |\n",
       "\n"
      ],
      "text/plain": [
       "  characteristic T_mean T_std C_mean C_std diff    N    t_val  p_pal sig\n",
       "1 hh_size        5.133  1.785 5.038  1.666 0.095   2440 1.36   0.174    \n",
       "2 adults         3.427  1.52  3.439  1.466 -0.011  2440 -0.19  1.151    \n",
       "3 children       1.703  1.242 1.599  1.228 0.104   2440 2.082  0.037 ** \n",
       "4 male_head      0.895  0.307 0.907  0.29  -0.012  2433 -1.011 1.688    \n",
       "5 head_age       40.91  10.89 41.15  10.84 -0.243  2431 -0.553 1.419    \n",
       "6 head_noeduc    0.362  0.481 0.37   0.483 -0.0077 2433 -0.394 1.306    "
      ]
     },
     "metadata": {},
     "output_type": "display_data"
    },
    {
     "name": "stdout",
     "output_type": "stream",
     "text": [
      "----------------------\n",
      " Access to credit"
     ]
    },
    {
     "data": {
      "text/html": [
       "<table class=\"dataframe\">\n",
       "<caption>A data.frame: 5 × 10</caption>\n",
       "<thead>\n",
       "\t<tr><th></th><th scope=col>characteristic</th><th scope=col>T_mean</th><th scope=col>T_std</th><th scope=col>C_mean</th><th scope=col>C_std</th><th scope=col>diff</th><th scope=col>N</th><th scope=col>t_val</th><th scope=col>p_pal</th><th scope=col>sig</th></tr>\n",
       "\t<tr><th></th><th scope=col>&lt;chr&gt;</th><th scope=col>&lt;chr&gt;</th><th scope=col>&lt;chr&gt;</th><th scope=col>&lt;chr&gt;</th><th scope=col>&lt;chr&gt;</th><th scope=col>&lt;chr&gt;</th><th scope=col>&lt;chr&gt;</th><th scope=col>&lt;chr&gt;</th><th scope=col>&lt;chr&gt;</th><th scope=col>&lt;chr&gt;</th></tr>\n",
       "</thead>\n",
       "<tbody>\n",
       "\t<tr><th scope=row>1</th><td>spandana</td><td>0.0066</td><td>0.081</td><td>0    </td><td>0    </td><td>0.0066</td><td>2431</td><td>2.831</td><td>0.0047</td><td>***</td></tr>\n",
       "\t<tr><th scope=row>2</th><td>othermfi</td><td>0.017 </td><td>0.13 </td><td>0.011</td><td>0.103</td><td>0.0065</td><td>2431</td><td>1.37 </td><td>0.171 </td><td>   </td></tr>\n",
       "\t<tr><th scope=row>3</th><td>bank    </td><td>0.038 </td><td>0.191</td><td>0.036</td><td>0.187</td><td>0.0015</td><td>2431</td><td>0.195</td><td>0.846 </td><td>   </td></tr>\n",
       "\t<tr><th scope=row>4</th><td>informal</td><td>0.634 </td><td>0.482</td><td>0.632</td><td>0.482</td><td>0.0015</td><td>2431</td><td>0.077</td><td>0.938 </td><td>   </td></tr>\n",
       "\t<tr><th scope=row>5</th><td>anyloan </td><td>0.682 </td><td>0.466</td><td>0.68 </td><td>0.467</td><td>0.0021</td><td>2431</td><td>0.113</td><td>0.91  </td><td>   </td></tr>\n",
       "</tbody>\n",
       "</table>\n"
      ],
      "text/latex": [
       "A data.frame: 5 × 10\n",
       "\\begin{tabular}{r|llllllllll}\n",
       "  & characteristic & T\\_mean & T\\_std & C\\_mean & C\\_std & diff & N & t\\_val & p\\_pal & sig\\\\\n",
       "  & <chr> & <chr> & <chr> & <chr> & <chr> & <chr> & <chr> & <chr> & <chr> & <chr>\\\\\n",
       "\\hline\n",
       "\t1 & spandana & 0.0066 & 0.081 & 0     & 0     & 0.0066 & 2431 & 2.831 & 0.0047 & ***\\\\\n",
       "\t2 & othermfi & 0.017  & 0.13  & 0.011 & 0.103 & 0.0065 & 2431 & 1.37  & 0.171  &    \\\\\n",
       "\t3 & bank     & 0.038  & 0.191 & 0.036 & 0.187 & 0.0015 & 2431 & 0.195 & 0.846  &    \\\\\n",
       "\t4 & informal & 0.634  & 0.482 & 0.632 & 0.482 & 0.0015 & 2431 & 0.077 & 0.938  &    \\\\\n",
       "\t5 & anyloan  & 0.682  & 0.466 & 0.68  & 0.467 & 0.0021 & 2431 & 0.113 & 0.91   &    \\\\\n",
       "\\end{tabular}\n"
      ],
      "text/markdown": [
       "\n",
       "A data.frame: 5 × 10\n",
       "\n",
       "| <!--/--> | characteristic &lt;chr&gt; | T_mean &lt;chr&gt; | T_std &lt;chr&gt; | C_mean &lt;chr&gt; | C_std &lt;chr&gt; | diff &lt;chr&gt; | N &lt;chr&gt; | t_val &lt;chr&gt; | p_pal &lt;chr&gt; | sig &lt;chr&gt; |\n",
       "|---|---|---|---|---|---|---|---|---|---|---|\n",
       "| 1 | spandana | 0.0066 | 0.081 | 0     | 0     | 0.0066 | 2431 | 2.831 | 0.0047 | *** |\n",
       "| 2 | othermfi | 0.017  | 0.13  | 0.011 | 0.103 | 0.0065 | 2431 | 1.37  | 0.171  | <!----> |\n",
       "| 3 | bank     | 0.038  | 0.191 | 0.036 | 0.187 | 0.0015 | 2431 | 0.195 | 0.846  | <!----> |\n",
       "| 4 | informal | 0.634  | 0.482 | 0.632 | 0.482 | 0.0015 | 2431 | 0.077 | 0.938  | <!----> |\n",
       "| 5 | anyloan  | 0.682  | 0.466 | 0.68  | 0.467 | 0.0021 | 2431 | 0.113 | 0.91   | <!----> |\n",
       "\n"
      ],
      "text/plain": [
       "  characteristic T_mean T_std C_mean C_std diff   N    t_val p_pal  sig\n",
       "1 spandana       0.0066 0.081 0      0     0.0066 2431 2.831 0.0047 ***\n",
       "2 othermfi       0.017  0.13  0.011  0.103 0.0065 2431 1.37  0.171     \n",
       "3 bank           0.038  0.191 0.036  0.187 0.0015 2431 0.195 0.846     \n",
       "4 informal       0.634  0.482 0.632  0.482 0.0015 2431 0.077 0.938     \n",
       "5 anyloan        0.682  0.466 0.68   0.467 0.0021 2431 0.113 0.91      "
      ]
     },
     "metadata": {},
     "output_type": "display_data"
    },
    {
     "name": "stdout",
     "output_type": "stream",
     "text": [
      "----------------------\n",
      " Amount Borrowed"
     ]
    },
    {
     "data": {
      "text/html": [
       "<table class=\"dataframe\">\n",
       "<caption>A data.frame: 5 × 10</caption>\n",
       "<thead>\n",
       "\t<tr><th></th><th scope=col>characteristic</th><th scope=col>T_mean</th><th scope=col>T_std</th><th scope=col>C_mean</th><th scope=col>C_std</th><th scope=col>diff</th><th scope=col>N</th><th scope=col>t_val</th><th scope=col>p_pal</th><th scope=col>sig</th></tr>\n",
       "\t<tr><th></th><th scope=col>&lt;chr&gt;</th><th scope=col>&lt;chr&gt;</th><th scope=col>&lt;chr&gt;</th><th scope=col>&lt;chr&gt;</th><th scope=col>&lt;chr&gt;</th><th scope=col>&lt;chr&gt;</th><th scope=col>&lt;chr&gt;</th><th scope=col>&lt;chr&gt;</th><th scope=col>&lt;chr&gt;</th><th scope=col>&lt;chr&gt;</th></tr>\n",
       "</thead>\n",
       "<tbody>\n",
       "\t<tr><th scope=row>1</th><td>spandana_amt</td><td>68.97   </td><td>1032.82 </td><td>0       </td><td>0        </td><td>68.97   </td><td>2431</td><td>2.326 </td><td>0.02 </td><td>**</td></tr>\n",
       "\t<tr><th scope=row>2</th><td>othermfi_amt</td><td>371.51  </td><td>6146.87 </td><td>201.15  </td><td>2742.36  </td><td>170.36  </td><td>2431</td><td>0.882 </td><td>0.378</td><td>  </td></tr>\n",
       "\t<tr><th scope=row>3</th><td>bank_amt    </td><td>2018.47 </td><td>19434.29</td><td>7438.17 </td><td>173268.34</td><td>-5419.7 </td><td>2431</td><td>-1.085</td><td>1.722</td><td>  </td></tr>\n",
       "\t<tr><th scope=row>4</th><td>informal_amt</td><td>27889.56</td><td>65814.34</td><td>28460.02</td><td>65312.16 </td><td>-570.46 </td><td>2431</td><td>-0.214</td><td>1.17 </td><td>  </td></tr>\n",
       "\t<tr><th scope=row>5</th><td>anyloan_amt </td><td>32013.45</td><td>73222.26</td><td>37892   </td><td>191291.57</td><td>-5878.56</td><td>2431</td><td>-1.001</td><td>1.683</td><td>  </td></tr>\n",
       "</tbody>\n",
       "</table>\n"
      ],
      "text/latex": [
       "A data.frame: 5 × 10\n",
       "\\begin{tabular}{r|llllllllll}\n",
       "  & characteristic & T\\_mean & T\\_std & C\\_mean & C\\_std & diff & N & t\\_val & p\\_pal & sig\\\\\n",
       "  & <chr> & <chr> & <chr> & <chr> & <chr> & <chr> & <chr> & <chr> & <chr> & <chr>\\\\\n",
       "\\hline\n",
       "\t1 & spandana\\_amt & 68.97    & 1032.82  & 0        & 0         & 68.97    & 2431 & 2.326  & 0.02  & **\\\\\n",
       "\t2 & othermfi\\_amt & 371.51   & 6146.87  & 201.15   & 2742.36   & 170.36   & 2431 & 0.882  & 0.378 &   \\\\\n",
       "\t3 & bank\\_amt     & 2018.47  & 19434.29 & 7438.17  & 173268.34 & -5419.7  & 2431 & -1.085 & 1.722 &   \\\\\n",
       "\t4 & informal\\_amt & 27889.56 & 65814.34 & 28460.02 & 65312.16  & -570.46  & 2431 & -0.214 & 1.17  &   \\\\\n",
       "\t5 & anyloan\\_amt  & 32013.45 & 73222.26 & 37892    & 191291.57 & -5878.56 & 2431 & -1.001 & 1.683 &   \\\\\n",
       "\\end{tabular}\n"
      ],
      "text/markdown": [
       "\n",
       "A data.frame: 5 × 10\n",
       "\n",
       "| <!--/--> | characteristic &lt;chr&gt; | T_mean &lt;chr&gt; | T_std &lt;chr&gt; | C_mean &lt;chr&gt; | C_std &lt;chr&gt; | diff &lt;chr&gt; | N &lt;chr&gt; | t_val &lt;chr&gt; | p_pal &lt;chr&gt; | sig &lt;chr&gt; |\n",
       "|---|---|---|---|---|---|---|---|---|---|---|\n",
       "| 1 | spandana_amt | 68.97    | 1032.82  | 0        | 0         | 68.97    | 2431 | 2.326  | 0.02  | ** |\n",
       "| 2 | othermfi_amt | 371.51   | 6146.87  | 201.15   | 2742.36   | 170.36   | 2431 | 0.882  | 0.378 | <!----> |\n",
       "| 3 | bank_amt     | 2018.47  | 19434.29 | 7438.17  | 173268.34 | -5419.7  | 2431 | -1.085 | 1.722 | <!----> |\n",
       "| 4 | informal_amt | 27889.56 | 65814.34 | 28460.02 | 65312.16  | -570.46  | 2431 | -0.214 | 1.17  | <!----> |\n",
       "| 5 | anyloan_amt  | 32013.45 | 73222.26 | 37892    | 191291.57 | -5878.56 | 2431 | -1.001 | 1.683 | <!----> |\n",
       "\n"
      ],
      "text/plain": [
       "  characteristic T_mean   T_std    C_mean   C_std     diff     N    t_val \n",
       "1 spandana_amt   68.97    1032.82  0        0         68.97    2431 2.326 \n",
       "2 othermfi_amt   371.51   6146.87  201.15   2742.36   170.36   2431 0.882 \n",
       "3 bank_amt       2018.47  19434.29 7438.17  173268.34 -5419.7  2431 -1.085\n",
       "4 informal_amt   27889.56 65814.34 28460.02 65312.16  -570.46  2431 -0.214\n",
       "5 anyloan_amt    32013.45 73222.26 37892    191291.57 -5878.56 2431 -1.001\n",
       "  p_pal sig\n",
       "1 0.02  ** \n",
       "2 0.378    \n",
       "3 1.722    \n",
       "4 1.17     \n",
       "5 1.683    "
      ]
     },
     "metadata": {},
     "output_type": "display_data"
    },
    {
     "name": "stdout",
     "output_type": "stream",
     "text": [
      "----------------------\n",
      " Self Employed Activities"
     ]
    },
    {
     "data": {
      "text/html": [
       "<table class=\"dataframe\">\n",
       "<caption>A data.frame: 3 × 10</caption>\n",
       "<thead>\n",
       "\t<tr><th></th><th scope=col>characteristic</th><th scope=col>T_mean</th><th scope=col>T_std</th><th scope=col>C_mean</th><th scope=col>C_std</th><th scope=col>diff</th><th scope=col>N</th><th scope=col>t_val</th><th scope=col>p_pal</th><th scope=col>sig</th></tr>\n",
       "\t<tr><th></th><th scope=col>&lt;chr&gt;</th><th scope=col>&lt;chr&gt;</th><th scope=col>&lt;chr&gt;</th><th scope=col>&lt;chr&gt;</th><th scope=col>&lt;chr&gt;</th><th scope=col>&lt;chr&gt;</th><th scope=col>&lt;chr&gt;</th><th scope=col>&lt;chr&gt;</th><th scope=col>&lt;chr&gt;</th><th scope=col>&lt;chr&gt;</th></tr>\n",
       "</thead>\n",
       "<tbody>\n",
       "\t<tr><th scope=row>1</th><td>total_biz     </td><td>0.301</td><td>0.623</td><td>0.32 </td><td>0.682</td><td>-0.019 </td><td>2440</td><td>-0.713</td><td>1.524</td><td></td></tr>\n",
       "\t<tr><th scope=row>2</th><td>female_biz    </td><td>0.139</td><td>0.392</td><td>0.145</td><td>0.4  </td><td>-0.0066</td><td>2440</td><td>-0.409</td><td>1.317</td><td></td></tr>\n",
       "\t<tr><th scope=row>3</th><td>female_biz_pct</td><td>0.483</td><td>0.479</td><td>0.488</td><td>0.482</td><td>-0.0056</td><td>579 </td><td>-0.14 </td><td>1.111</td><td></td></tr>\n",
       "</tbody>\n",
       "</table>\n"
      ],
      "text/latex": [
       "A data.frame: 3 × 10\n",
       "\\begin{tabular}{r|llllllllll}\n",
       "  & characteristic & T\\_mean & T\\_std & C\\_mean & C\\_std & diff & N & t\\_val & p\\_pal & sig\\\\\n",
       "  & <chr> & <chr> & <chr> & <chr> & <chr> & <chr> & <chr> & <chr> & <chr> & <chr>\\\\\n",
       "\\hline\n",
       "\t1 & total\\_biz      & 0.301 & 0.623 & 0.32  & 0.682 & -0.019  & 2440 & -0.713 & 1.524 & \\\\\n",
       "\t2 & female\\_biz     & 0.139 & 0.392 & 0.145 & 0.4   & -0.0066 & 2440 & -0.409 & 1.317 & \\\\\n",
       "\t3 & female\\_biz\\_pct & 0.483 & 0.479 & 0.488 & 0.482 & -0.0056 & 579  & -0.14  & 1.111 & \\\\\n",
       "\\end{tabular}\n"
      ],
      "text/markdown": [
       "\n",
       "A data.frame: 3 × 10\n",
       "\n",
       "| <!--/--> | characteristic &lt;chr&gt; | T_mean &lt;chr&gt; | T_std &lt;chr&gt; | C_mean &lt;chr&gt; | C_std &lt;chr&gt; | diff &lt;chr&gt; | N &lt;chr&gt; | t_val &lt;chr&gt; | p_pal &lt;chr&gt; | sig &lt;chr&gt; |\n",
       "|---|---|---|---|---|---|---|---|---|---|---|\n",
       "| 1 | total_biz      | 0.301 | 0.623 | 0.32  | 0.682 | -0.019  | 2440 | -0.713 | 1.524 | <!----> |\n",
       "| 2 | female_biz     | 0.139 | 0.392 | 0.145 | 0.4   | -0.0066 | 2440 | -0.409 | 1.317 | <!----> |\n",
       "| 3 | female_biz_pct | 0.483 | 0.479 | 0.488 | 0.482 | -0.0056 | 579  | -0.14  | 1.111 | <!----> |\n",
       "\n"
      ],
      "text/plain": [
       "  characteristic T_mean T_std C_mean C_std diff    N    t_val  p_pal sig\n",
       "1 total_biz      0.301  0.623 0.32   0.682 -0.019  2440 -0.713 1.524    \n",
       "2 female_biz     0.139  0.392 0.145  0.4   -0.0066 2440 -0.409 1.317    \n",
       "3 female_biz_pct 0.483  0.479 0.488  0.482 -0.0056 579  -0.14  1.111    "
      ]
     },
     "metadata": {},
     "output_type": "display_data"
    },
    {
     "name": "stdout",
     "output_type": "stream",
     "text": [
      ".\n",
      ".\n",
      ".\n",
      "SIMILARLY CONTINUED"
     ]
    }
   ],
   "source": [
    "cat(\"----------------------\\n Household Composition\")\n",
    "panel_cols <- c(\"hh_size\", \"adults\", \"children\", \"male_head\", \"head_age\", \"head_noeduc\" )\n",
    "baseline_summary(panel_cols)\n",
    "\n",
    "\n",
    "cat(\"----------------------\\n Access to credit\")\n",
    "panel_cols <- c(\"spandana\", \"othermfi\", \"bank\", \"informal\", \"anyloan\" )\n",
    "baseline_summary(panel_cols)\n",
    "\n",
    "\n",
    "cat(\"----------------------\\n Amount Borrowed\")\n",
    "panel_cols <- c(\"spandana_amt\", \"othermfi_amt\", \"bank_amt\", \"informal_amt\", \"anyloan_amt\" )\n",
    "baseline_summary(panel_cols)\n",
    "\n",
    "\n",
    "cat(\"----------------------\\n Self Employed Activities\")\n",
    "panel_cols <- c(\"total_biz\", \"female_biz\", \"female_biz_pct\" )\n",
    "baseline_summary(panel_cols)\n",
    "\n",
    "\n",
    "cat(\".\\n.\\n.\\n\")\n",
    "cat(\"SIMILARLY CONTINUED\")"
   ]
  },
  {
   "cell_type": "markdown",
   "id": "8eea0ffe",
   "metadata": {},
   "source": [
    "_______________________________________________________________________________________________________________"
   ]
  },
  {
   "cell_type": "markdown",
   "id": "d639e94d",
   "metadata": {},
   "source": [
    "## Endline Discriptive Stats"
   ]
  },
  {
   "cell_type": "code",
   "execution_count": 13,
   "id": "e67ec65f",
   "metadata": {},
   "outputs": [],
   "source": [
    "endline_summary <- function(row_list) {\n",
    "    \n",
    "    col_list = c(\"name\", \"EL1_C_Obs\", \"EL1_C_Mean\", \"EL1_C_Sd\", \"EL2_C_Obs\", \"EL2_C_Mean\", \"EL2_C_Sd\", \"diff\", \"t_score\" , \"p_val\", \"sig\")\n",
    "    summary_res <- data.frame(matrix(nrow = 0, ncol = length(col_list)))\n",
    "    colnames(summary_res) <- col_list\n",
    "    \n",
    "    EL_control <- endline_data[ endline_data$treatment == 0 ,  ]\n",
    "        \n",
    "    for (name in row_list){\n",
    "        \n",
    "        name_1 = paste0(name, \"_1\")\n",
    "        name_2 = paste0(name, \"_2\")\n",
    "        \n",
    "        ## Formulas work as \n",
    "        \n",
    "        EL1_C_Mean <- weighted.mean(EL_control[[name_1]], EL_control$w1, na.rm = TRUE)       \n",
    "        #EL1_C_Sd <- sd(EL_control[[name_1]], na.rm = TRUE)  \n",
    "        EL1_C_Sd <- sqrt( weighted.mean((EL_control[[name_1]] - EL1_C_Mean)**2, EL_control$w1, na.rm = TRUE) )\n",
    "        EL1_C_Obs <- sum(!is.na(EL_control[[name_1]]))       \n",
    "        \n",
    "        EL2_C_Mean <- weighted.mean(EL_control[[name_2]], EL_control$w2,  na.rm = TRUE)       \n",
    "        #EL2_C_Sd <- sd(EL_control[[name_2]], na.rm = TRUE)       \n",
    "        EL2_C_Sd <- sqrt( weighted.mean((EL_control[[name_2]] - EL2_C_Mean)**2, EL_control$w2, na.rm = TRUE) )\n",
    "        EL2_C_Obs <- sum(!is.na(EL_control[[name_2]]))       \n",
    "        \n",
    "        diff <- EL2_C_Mean - EL1_C_Mean\n",
    "        \n",
    "        \n",
    "        std_eff = ((EL1_C_Obs * EL1_C_Sd**2) + (EL2_C_Obs * EL2_C_Sd**2)) / (EL1_C_Obs + EL2_C_Obs)\n",
    "        t_sc <- abs(diff)/std_eff / sqrt(1.0/EL1_C_Obs + 1.0/EL2_C_Obs)\n",
    "        p_val <- 2*pt(t_sc, df = (EL1_C_Obs + EL2_C_Obs)-2, lower.tail = FALSE )\n",
    "        \n",
    "        EL1_C_Mean <- round_auto(EL1_C_Mean)\n",
    "        EL1_C_Sd <- round_auto(EL1_C_Sd)\n",
    "        EL1_C_Obs <- round_auto(EL1_C_Obs)\n",
    "        \n",
    "        EL2_C_Mean <- round_auto(EL2_C_Mean)\n",
    "        EL2_C_Sd <- round_auto(EL2_C_Sd)\n",
    "        EL2_C_Obs <- round_auto(EL2_C_Obs)\n",
    "        \n",
    "        diff <- round_auto(diff)\n",
    "        t_sc <- round_auto(t_sc)\n",
    "        p_val <- round_auto(p_val)\n",
    "\n",
    "        sig <- \"\"\n",
    "        if(p_val<0.1){sig <- \"*\"}\n",
    "        if(p_val<0.05){sig <- \"**\"}\n",
    "        if(p_val<0.01){sig <- \"***\"}\n",
    "\n",
    "        summary_res[nrow(summary_res) + 1,] = c(name, EL1_C_Obs, EL1_C_Mean, EL1_C_Sd, EL2_C_Obs, EL2_C_Mean, EL2_C_Sd, diff ,t_sc, p_val,sig)\n",
    "    }\n",
    "    \n",
    "    return(summary_res)\n",
    "}\n"
   ]
  },
  {
   "cell_type": "code",
   "execution_count": 14,
   "id": "9df3970b",
   "metadata": {},
   "outputs": [
    {
     "name": "stdout",
     "output_type": "stream",
     "text": [
      "----------------------\n",
      " Household Composition"
     ]
    },
    {
     "data": {
      "text/html": [
       "<table class=\"dataframe\">\n",
       "<caption>A data.frame: 6 × 11</caption>\n",
       "<thead>\n",
       "\t<tr><th></th><th scope=col>name</th><th scope=col>EL1_C_Obs</th><th scope=col>EL1_C_Mean</th><th scope=col>EL1_C_Sd</th><th scope=col>EL2_C_Obs</th><th scope=col>EL2_C_Mean</th><th scope=col>EL2_C_Sd</th><th scope=col>diff</th><th scope=col>t_score</th><th scope=col>p_val</th><th scope=col>sig</th></tr>\n",
       "\t<tr><th></th><th scope=col>&lt;chr&gt;</th><th scope=col>&lt;chr&gt;</th><th scope=col>&lt;chr&gt;</th><th scope=col>&lt;chr&gt;</th><th scope=col>&lt;chr&gt;</th><th scope=col>&lt;chr&gt;</th><th scope=col>&lt;chr&gt;</th><th scope=col>&lt;chr&gt;</th><th scope=col>&lt;chr&gt;</th><th scope=col>&lt;chr&gt;</th><th scope=col>&lt;chr&gt;</th></tr>\n",
       "</thead>\n",
       "<tbody>\n",
       "\t<tr><th scope=row>1</th><td>hhsize     </td><td>3264</td><td>5.644</td><td>2.152</td><td>2943</td><td>6.265</td><td>2.547</td><td>0.621 </td><td>4.43 </td><td>9.6e-06 </td><td>***</td></tr>\n",
       "\t<tr><th scope=row>2</th><td>adults     </td><td>3264</td><td>3.886</td><td>1.754</td><td>2943</td><td>4.036</td><td>1.847</td><td>0.15  </td><td>1.83 </td><td>0.067   </td><td>*  </td></tr>\n",
       "\t<tr><th scope=row>3</th><td>children   </td><td>3264</td><td>1.737</td><td>1.31 </td><td>2943</td><td>1.763</td><td>1.321</td><td>0.025 </td><td>0.573</td><td>0.566   </td><td>   </td></tr>\n",
       "\t<tr><th scope=row>4</th><td>male_head  </td><td>3261</td><td>0.894</td><td>0.307</td><td>2938</td><td>0.811</td><td>0.391</td><td>-0.083</td><td>26.75</td><td>2.9e-149</td><td>***</td></tr>\n",
       "\t<tr><th scope=row>5</th><td>head_age   </td><td>3257</td><td>41.15</td><td>10.22</td><td>2940</td><td>42.26</td><td>10.16</td><td>1.114 </td><td>0.422</td><td>0.673   </td><td>   </td></tr>\n",
       "\t<tr><th scope=row>6</th><td>head_noeduc</td><td>3256</td><td>0.311</td><td>0.463</td><td>2940</td><td>0.292</td><td>0.455</td><td>-0.02 </td><td>3.654</td><td>0.00026 </td><td>***</td></tr>\n",
       "</tbody>\n",
       "</table>\n"
      ],
      "text/latex": [
       "A data.frame: 6 × 11\n",
       "\\begin{tabular}{r|lllllllllll}\n",
       "  & name & EL1\\_C\\_Obs & EL1\\_C\\_Mean & EL1\\_C\\_Sd & EL2\\_C\\_Obs & EL2\\_C\\_Mean & EL2\\_C\\_Sd & diff & t\\_score & p\\_val & sig\\\\\n",
       "  & <chr> & <chr> & <chr> & <chr> & <chr> & <chr> & <chr> & <chr> & <chr> & <chr> & <chr>\\\\\n",
       "\\hline\n",
       "\t1 & hhsize      & 3264 & 5.644 & 2.152 & 2943 & 6.265 & 2.547 & 0.621  & 4.43  & 9.6e-06  & ***\\\\\n",
       "\t2 & adults      & 3264 & 3.886 & 1.754 & 2943 & 4.036 & 1.847 & 0.15   & 1.83  & 0.067    & *  \\\\\n",
       "\t3 & children    & 3264 & 1.737 & 1.31  & 2943 & 1.763 & 1.321 & 0.025  & 0.573 & 0.566    &    \\\\\n",
       "\t4 & male\\_head   & 3261 & 0.894 & 0.307 & 2938 & 0.811 & 0.391 & -0.083 & 26.75 & 2.9e-149 & ***\\\\\n",
       "\t5 & head\\_age    & 3257 & 41.15 & 10.22 & 2940 & 42.26 & 10.16 & 1.114  & 0.422 & 0.673    &    \\\\\n",
       "\t6 & head\\_noeduc & 3256 & 0.311 & 0.463 & 2940 & 0.292 & 0.455 & -0.02  & 3.654 & 0.00026  & ***\\\\\n",
       "\\end{tabular}\n"
      ],
      "text/markdown": [
       "\n",
       "A data.frame: 6 × 11\n",
       "\n",
       "| <!--/--> | name &lt;chr&gt; | EL1_C_Obs &lt;chr&gt; | EL1_C_Mean &lt;chr&gt; | EL1_C_Sd &lt;chr&gt; | EL2_C_Obs &lt;chr&gt; | EL2_C_Mean &lt;chr&gt; | EL2_C_Sd &lt;chr&gt; | diff &lt;chr&gt; | t_score &lt;chr&gt; | p_val &lt;chr&gt; | sig &lt;chr&gt; |\n",
       "|---|---|---|---|---|---|---|---|---|---|---|---|\n",
       "| 1 | hhsize      | 3264 | 5.644 | 2.152 | 2943 | 6.265 | 2.547 | 0.621  | 4.43  | 9.6e-06  | *** |\n",
       "| 2 | adults      | 3264 | 3.886 | 1.754 | 2943 | 4.036 | 1.847 | 0.15   | 1.83  | 0.067    | *   |\n",
       "| 3 | children    | 3264 | 1.737 | 1.31  | 2943 | 1.763 | 1.321 | 0.025  | 0.573 | 0.566    | <!----> |\n",
       "| 4 | male_head   | 3261 | 0.894 | 0.307 | 2938 | 0.811 | 0.391 | -0.083 | 26.75 | 2.9e-149 | *** |\n",
       "| 5 | head_age    | 3257 | 41.15 | 10.22 | 2940 | 42.26 | 10.16 | 1.114  | 0.422 | 0.673    | <!----> |\n",
       "| 6 | head_noeduc | 3256 | 0.311 | 0.463 | 2940 | 0.292 | 0.455 | -0.02  | 3.654 | 0.00026  | *** |\n",
       "\n"
      ],
      "text/plain": [
       "  name        EL1_C_Obs EL1_C_Mean EL1_C_Sd EL2_C_Obs EL2_C_Mean EL2_C_Sd\n",
       "1 hhsize      3264      5.644      2.152    2943      6.265      2.547   \n",
       "2 adults      3264      3.886      1.754    2943      4.036      1.847   \n",
       "3 children    3264      1.737      1.31     2943      1.763      1.321   \n",
       "4 male_head   3261      0.894      0.307    2938      0.811      0.391   \n",
       "5 head_age    3257      41.15      10.22    2940      42.26      10.16   \n",
       "6 head_noeduc 3256      0.311      0.463    2940      0.292      0.455   \n",
       "  diff   t_score p_val    sig\n",
       "1 0.621  4.43    9.6e-06  ***\n",
       "2 0.15   1.83    0.067    *  \n",
       "3 0.025  0.573   0.566       \n",
       "4 -0.083 26.75   2.9e-149 ***\n",
       "5 1.114  0.422   0.673       \n",
       "6 -0.02  3.654   0.00026  ***"
      ]
     },
     "metadata": {},
     "output_type": "display_data"
    },
    {
     "name": "stdout",
     "output_type": "stream",
     "text": [
      "----------------------\n",
      " Access to credit"
     ]
    },
    {
     "data": {
      "text/html": [
       "<table class=\"dataframe\">\n",
       "<caption>A data.frame: 5 × 11</caption>\n",
       "<thead>\n",
       "\t<tr><th></th><th scope=col>name</th><th scope=col>EL1_C_Obs</th><th scope=col>EL1_C_Mean</th><th scope=col>EL1_C_Sd</th><th scope=col>EL2_C_Obs</th><th scope=col>EL2_C_Mean</th><th scope=col>EL2_C_Sd</th><th scope=col>diff</th><th scope=col>t_score</th><th scope=col>p_val</th><th scope=col>sig</th></tr>\n",
       "\t<tr><th></th><th scope=col>&lt;chr&gt;</th><th scope=col>&lt;chr&gt;</th><th scope=col>&lt;chr&gt;</th><th scope=col>&lt;chr&gt;</th><th scope=col>&lt;chr&gt;</th><th scope=col>&lt;chr&gt;</th><th scope=col>&lt;chr&gt;</th><th scope=col>&lt;chr&gt;</th><th scope=col>&lt;chr&gt;</th><th scope=col>&lt;chr&gt;</th><th scope=col>&lt;chr&gt;</th></tr>\n",
       "</thead>\n",
       "<tbody>\n",
       "\t<tr><th scope=row>1</th><td>spandana   </td><td>3247</td><td>0.048</td><td>0.214</td><td>2943</td><td>0.103</td><td>0.304</td><td>0.055  </td><td>31.77</td><td>2.2e-205</td><td>***</td></tr>\n",
       "\t<tr><th scope=row>2</th><td>othermfi   </td><td>3183</td><td>0.148</td><td>0.355</td><td>2943</td><td>0.267</td><td>0.442</td><td>0.119  </td><td>29.04</td><td>7e-174  </td><td>***</td></tr>\n",
       "\t<tr><th scope=row>3</th><td>anybank    </td><td>3247</td><td>0.079</td><td>0.27 </td><td>2943</td><td>0.073</td><td>0.26 </td><td>-0.0061</td><td>3.429</td><td>0.00061 </td><td>***</td></tr>\n",
       "\t<tr><th scope=row>4</th><td>anyinformal</td><td>3247</td><td>0.761</td><td>0.427</td><td>2943</td><td>0.603</td><td>0.489</td><td>-0.158 </td><td>29.69</td><td>3.2e-181</td><td>***</td></tr>\n",
       "\t<tr><th scope=row>5</th><td>anyloan    </td><td>3264</td><td>0.867</td><td>0.34 </td><td>2943</td><td>0.903</td><td>0.296</td><td>0.036  </td><td>13.97</td><td>1.1e-43 </td><td>***</td></tr>\n",
       "</tbody>\n",
       "</table>\n"
      ],
      "text/latex": [
       "A data.frame: 5 × 11\n",
       "\\begin{tabular}{r|lllllllllll}\n",
       "  & name & EL1\\_C\\_Obs & EL1\\_C\\_Mean & EL1\\_C\\_Sd & EL2\\_C\\_Obs & EL2\\_C\\_Mean & EL2\\_C\\_Sd & diff & t\\_score & p\\_val & sig\\\\\n",
       "  & <chr> & <chr> & <chr> & <chr> & <chr> & <chr> & <chr> & <chr> & <chr> & <chr> & <chr>\\\\\n",
       "\\hline\n",
       "\t1 & spandana    & 3247 & 0.048 & 0.214 & 2943 & 0.103 & 0.304 & 0.055   & 31.77 & 2.2e-205 & ***\\\\\n",
       "\t2 & othermfi    & 3183 & 0.148 & 0.355 & 2943 & 0.267 & 0.442 & 0.119   & 29.04 & 7e-174   & ***\\\\\n",
       "\t3 & anybank     & 3247 & 0.079 & 0.27  & 2943 & 0.073 & 0.26  & -0.0061 & 3.429 & 0.00061  & ***\\\\\n",
       "\t4 & anyinformal & 3247 & 0.761 & 0.427 & 2943 & 0.603 & 0.489 & -0.158  & 29.69 & 3.2e-181 & ***\\\\\n",
       "\t5 & anyloan     & 3264 & 0.867 & 0.34  & 2943 & 0.903 & 0.296 & 0.036   & 13.97 & 1.1e-43  & ***\\\\\n",
       "\\end{tabular}\n"
      ],
      "text/markdown": [
       "\n",
       "A data.frame: 5 × 11\n",
       "\n",
       "| <!--/--> | name &lt;chr&gt; | EL1_C_Obs &lt;chr&gt; | EL1_C_Mean &lt;chr&gt; | EL1_C_Sd &lt;chr&gt; | EL2_C_Obs &lt;chr&gt; | EL2_C_Mean &lt;chr&gt; | EL2_C_Sd &lt;chr&gt; | diff &lt;chr&gt; | t_score &lt;chr&gt; | p_val &lt;chr&gt; | sig &lt;chr&gt; |\n",
       "|---|---|---|---|---|---|---|---|---|---|---|---|\n",
       "| 1 | spandana    | 3247 | 0.048 | 0.214 | 2943 | 0.103 | 0.304 | 0.055   | 31.77 | 2.2e-205 | *** |\n",
       "| 2 | othermfi    | 3183 | 0.148 | 0.355 | 2943 | 0.267 | 0.442 | 0.119   | 29.04 | 7e-174   | *** |\n",
       "| 3 | anybank     | 3247 | 0.079 | 0.27  | 2943 | 0.073 | 0.26  | -0.0061 | 3.429 | 0.00061  | *** |\n",
       "| 4 | anyinformal | 3247 | 0.761 | 0.427 | 2943 | 0.603 | 0.489 | -0.158  | 29.69 | 3.2e-181 | *** |\n",
       "| 5 | anyloan     | 3264 | 0.867 | 0.34  | 2943 | 0.903 | 0.296 | 0.036   | 13.97 | 1.1e-43  | *** |\n",
       "\n"
      ],
      "text/plain": [
       "  name        EL1_C_Obs EL1_C_Mean EL1_C_Sd EL2_C_Obs EL2_C_Mean EL2_C_Sd\n",
       "1 spandana    3247      0.048      0.214    2943      0.103      0.304   \n",
       "2 othermfi    3183      0.148      0.355    2943      0.267      0.442   \n",
       "3 anybank     3247      0.079      0.27     2943      0.073      0.26    \n",
       "4 anyinformal 3247      0.761      0.427    2943      0.603      0.489   \n",
       "5 anyloan     3264      0.867      0.34     2943      0.903      0.296   \n",
       "  diff    t_score p_val    sig\n",
       "1 0.055   31.77   2.2e-205 ***\n",
       "2 0.119   29.04   7e-174   ***\n",
       "3 -0.0061 3.429   0.00061  ***\n",
       "4 -0.158  29.69   3.2e-181 ***\n",
       "5 0.036   13.97   1.1e-43  ***"
      ]
     },
     "metadata": {},
     "output_type": "display_data"
    },
    {
     "name": "stdout",
     "output_type": "stream",
     "text": [
      "----------------------\n",
      " Amount Borrowed"
     ]
    },
    {
     "data": {
      "text/html": [
       "<table class=\"dataframe\">\n",
       "<caption>A data.frame: 5 × 11</caption>\n",
       "<thead>\n",
       "\t<tr><th></th><th scope=col>name</th><th scope=col>EL1_C_Obs</th><th scope=col>EL1_C_Mean</th><th scope=col>EL1_C_Sd</th><th scope=col>EL2_C_Obs</th><th scope=col>EL2_C_Mean</th><th scope=col>EL2_C_Sd</th><th scope=col>diff</th><th scope=col>t_score</th><th scope=col>p_val</th><th scope=col>sig</th></tr>\n",
       "\t<tr><th></th><th scope=col>&lt;chr&gt;</th><th scope=col>&lt;chr&gt;</th><th scope=col>&lt;chr&gt;</th><th scope=col>&lt;chr&gt;</th><th scope=col>&lt;chr&gt;</th><th scope=col>&lt;chr&gt;</th><th scope=col>&lt;chr&gt;</th><th scope=col>&lt;chr&gt;</th><th scope=col>&lt;chr&gt;</th><th scope=col>&lt;chr&gt;</th><th scope=col>&lt;chr&gt;</th></tr>\n",
       "</thead>\n",
       "<tbody>\n",
       "\t<tr><th scope=row>1</th><td>spandana_amt</td><td>3247</td><td>567.93  </td><td>2837.29  </td><td>2943</td><td>1446.38 </td><td>5413.56  </td><td>878.45  </td><td>0.0019 </td><td>0.998</td><td></td></tr>\n",
       "\t<tr><th scope=row>2</th><td>othermfi_amt</td><td>3200</td><td>1802.01 </td><td>5915.19  </td><td>2943</td><td>4718.36 </td><td>10606.88 </td><td>2916.35 </td><td>0.0016 </td><td>0.999</td><td></td></tr>\n",
       "\t<tr><th scope=row>3</th><td>bank_amt    </td><td>3247</td><td>8428.59 </td><td>102062.7 </td><td>2943</td><td>6142.18 </td><td>40429.01 </td><td>-2286.41</td><td>1.4e-05</td><td>1    </td><td></td></tr>\n",
       "\t<tr><th scope=row>4</th><td>informal_amt</td><td>3247</td><td>41025.26</td><td>77808.55 </td><td>2943</td><td>32331.17</td><td>76734.02 </td><td>-8694.09</td><td>5.7e-05</td><td>1    </td><td></td></tr>\n",
       "\t<tr><th scope=row>5</th><td>anyloan_amt </td><td>3264</td><td>59778.41</td><td>133642.24</td><td>2943</td><td>88436.68</td><td>144838.23</td><td>28658.27</td><td>5.8e-05</td><td>1    </td><td></td></tr>\n",
       "</tbody>\n",
       "</table>\n"
      ],
      "text/latex": [
       "A data.frame: 5 × 11\n",
       "\\begin{tabular}{r|lllllllllll}\n",
       "  & name & EL1\\_C\\_Obs & EL1\\_C\\_Mean & EL1\\_C\\_Sd & EL2\\_C\\_Obs & EL2\\_C\\_Mean & EL2\\_C\\_Sd & diff & t\\_score & p\\_val & sig\\\\\n",
       "  & <chr> & <chr> & <chr> & <chr> & <chr> & <chr> & <chr> & <chr> & <chr> & <chr> & <chr>\\\\\n",
       "\\hline\n",
       "\t1 & spandana\\_amt & 3247 & 567.93   & 2837.29   & 2943 & 1446.38  & 5413.56   & 878.45   & 0.0019  & 0.998 & \\\\\n",
       "\t2 & othermfi\\_amt & 3200 & 1802.01  & 5915.19   & 2943 & 4718.36  & 10606.88  & 2916.35  & 0.0016  & 0.999 & \\\\\n",
       "\t3 & bank\\_amt     & 3247 & 8428.59  & 102062.7  & 2943 & 6142.18  & 40429.01  & -2286.41 & 1.4e-05 & 1     & \\\\\n",
       "\t4 & informal\\_amt & 3247 & 41025.26 & 77808.55  & 2943 & 32331.17 & 76734.02  & -8694.09 & 5.7e-05 & 1     & \\\\\n",
       "\t5 & anyloan\\_amt  & 3264 & 59778.41 & 133642.24 & 2943 & 88436.68 & 144838.23 & 28658.27 & 5.8e-05 & 1     & \\\\\n",
       "\\end{tabular}\n"
      ],
      "text/markdown": [
       "\n",
       "A data.frame: 5 × 11\n",
       "\n",
       "| <!--/--> | name &lt;chr&gt; | EL1_C_Obs &lt;chr&gt; | EL1_C_Mean &lt;chr&gt; | EL1_C_Sd &lt;chr&gt; | EL2_C_Obs &lt;chr&gt; | EL2_C_Mean &lt;chr&gt; | EL2_C_Sd &lt;chr&gt; | diff &lt;chr&gt; | t_score &lt;chr&gt; | p_val &lt;chr&gt; | sig &lt;chr&gt; |\n",
       "|---|---|---|---|---|---|---|---|---|---|---|---|\n",
       "| 1 | spandana_amt | 3247 | 567.93   | 2837.29   | 2943 | 1446.38  | 5413.56   | 878.45   | 0.0019  | 0.998 | <!----> |\n",
       "| 2 | othermfi_amt | 3200 | 1802.01  | 5915.19   | 2943 | 4718.36  | 10606.88  | 2916.35  | 0.0016  | 0.999 | <!----> |\n",
       "| 3 | bank_amt     | 3247 | 8428.59  | 102062.7  | 2943 | 6142.18  | 40429.01  | -2286.41 | 1.4e-05 | 1     | <!----> |\n",
       "| 4 | informal_amt | 3247 | 41025.26 | 77808.55  | 2943 | 32331.17 | 76734.02  | -8694.09 | 5.7e-05 | 1     | <!----> |\n",
       "| 5 | anyloan_amt  | 3264 | 59778.41 | 133642.24 | 2943 | 88436.68 | 144838.23 | 28658.27 | 5.8e-05 | 1     | <!----> |\n",
       "\n"
      ],
      "text/plain": [
       "  name         EL1_C_Obs EL1_C_Mean EL1_C_Sd  EL2_C_Obs EL2_C_Mean EL2_C_Sd \n",
       "1 spandana_amt 3247      567.93     2837.29   2943      1446.38    5413.56  \n",
       "2 othermfi_amt 3200      1802.01    5915.19   2943      4718.36    10606.88 \n",
       "3 bank_amt     3247      8428.59    102062.7  2943      6142.18    40429.01 \n",
       "4 informal_amt 3247      41025.26   77808.55  2943      32331.17   76734.02 \n",
       "5 anyloan_amt  3264      59778.41   133642.24 2943      88436.68   144838.23\n",
       "  diff     t_score p_val sig\n",
       "1 878.45   0.0019  0.998    \n",
       "2 2916.35  0.0016  0.999    \n",
       "3 -2286.41 1.4e-05 1        \n",
       "4 -8694.09 5.7e-05 1        \n",
       "5 28658.27 5.8e-05 1        "
      ]
     },
     "metadata": {},
     "output_type": "display_data"
    },
    {
     "name": "stdout",
     "output_type": "stream",
     "text": [
      ".\n",
      ".\n",
      ".\n",
      "SIMILARLY CONTINUED"
     ]
    }
   ],
   "source": [
    "cat(\"----------------------\\n Household Composition\")\n",
    "panel_cols <- c(\"hhsize\", \"adults\", \"children\", \"male_head\", \"head_age\", \"head_noeduc\" )\n",
    "endline_summary(panel_cols)\n",
    "\n",
    "cat(\"----------------------\\n Access to credit\")\n",
    "panel_cols <- c(\"spandana\", \"othermfi\", \"anybank\" , \"anyinformal\", \"anyloan\" )\n",
    "endline_summary(panel_cols)\n",
    "\n",
    "\n",
    "cat(\"----------------------\\n Amount Borrowed\")\n",
    "panel_cols <- c(\"spandana_amt\", \"othermfi_amt\", \"bank_amt\", \"informal_amt\", \"anyloan_amt\" )\n",
    "endline_summary(panel_cols)\n",
    "\n",
    "\n",
    "cat(\".\\n.\\n.\\n\")\n",
    "cat(\"SIMILARLY CONTINUED\")"
   ]
  },
  {
   "cell_type": "markdown",
   "id": "6459fdb9",
   "metadata": {},
   "source": [
    "__________"
   ]
  },
  {
   "cell_type": "markdown",
   "id": "8d4ceebb",
   "metadata": {},
   "source": [
    "# Regression Results\n"
   ]
  },
  {
   "cell_type": "markdown",
   "id": "9039e84d",
   "metadata": {},
   "source": [
    "In the following analysis, the standard errors have been clustered at area level (treatment unit).\n",
    "\n",
    "I should have ideally done the clustering above as well, but I do not (yet) know how to do this in R in a simple way."
   ]
  },
  {
   "cell_type": "code",
   "execution_count": 15,
   "id": "eedcfeee",
   "metadata": {},
   "outputs": [],
   "source": [
    "control_variables <- c(\"area_pop_base\" , \"area_business_total_base\" ,\"area_exp_pc_mean_base\" ,\"area_literate_head_base\" ,\"area_literate_base\")"
   ]
  },
  {
   "cell_type": "code",
   "execution_count": 16,
   "id": "a6c504dd",
   "metadata": {},
   "outputs": [],
   "source": [
    "endline_regressions <- function(y_name_list){\n",
    "    \n",
    "    col_list <- c(\"output\", \"el1_treatment_eff\", \"el1_std\", \"el1_pval\", \"el1_sig\", \"el1_obs\", \"el2_treatment_eff\", \"el2_std\",\"el2_pval\",  \"el2_sig\", \"el2_obs\")\n",
    "    ret_df <- data.frame(matrix(nrow = 0, ncol = length(col_list)))\n",
    "    colnames(ret_df) <- col_list\n",
    "            \n",
    "    for (name in y_name_list){\n",
    "        \n",
    "        name_1 <- paste0(name, \"_1\")\n",
    "        name_2 <- paste0(name, \"_2\")\n",
    "        \n",
    "        fmla1 <- paste0(name_1, \" ~ treatment + \")\n",
    "        fmla1 <- as.formula(paste(fmla1, paste(control_variables, collapse= \"+\")))\n",
    "\n",
    "        fmla2 <- paste0(name_2, \" ~ treatment + \")\n",
    "        fmla2 <- as.formula(paste(fmla2, paste(control_variables, collapse= \"+\")))\n",
    "\n",
    "        \n",
    "        model1 <- lm_robust(fmla1, se_type = 'stata', cluster = areaid, data = endline_data, weights=endline_data$w1)\n",
    "        model2 <- lm_robust(fmla2, se_type = 'stata', cluster = areaid, data = endline_data, weights=endline_data$w2)\n",
    "        \n",
    "        \n",
    "        el1_treatment_eff <- round_auto(model1$coefficients[\"treatment\"])\n",
    "        el1_std <- round_auto(model1$std.error[\"treatment\"])\n",
    "        el1_pval <-  round_auto(model1$p.value[\"treatment\"])\n",
    "        el1_obs <- model1$nobs\n",
    "\n",
    "        el2_treatment_eff <- round_auto(model2$coefficients[\"treatment\"])\n",
    "        el2_std <- round_auto(model2$std.error[\"treatment\"])\n",
    "        el2_pval <-  round_auto(model2$p.value[\"treatment\"])\n",
    "        el2_obs <- model2$nobs\n",
    "\n",
    "        el1_sig <- \"\"\n",
    "        if(el1_pval<0.1){el1_sig <- \"*\"}\n",
    "        if(el1_pval<0.05){el1_sig <- \"**\"}\n",
    "        if(el1_pval<0.01){el1_sig <- \"***\"}\n",
    "\n",
    "        el2_sig <- \"\"\n",
    "        if(el2_pval<0.1){el2_sig <- \"*\"}\n",
    "        if(el2_pval<0.05){el2_sig <- \"**\"}\n",
    "        if(el2_pval<0.01){el2_sig <- \"***\"}\n",
    "\n",
    "        \n",
    "        ret_df[nrow(ret_df) + 1,] = c(name, el1_treatment_eff, el1_std, el1_pval, el1_sig, el1_obs, el2_treatment_eff, el2_std,el2_pval,  el2_sig, el2_obs)\n",
    "        \n",
    "    }\n",
    "    \n",
    "    return(ret_df)\n",
    "\n",
    "}"
   ]
  },
  {
   "cell_type": "code",
   "execution_count": 17,
   "id": "79d85e76",
   "metadata": {},
   "outputs": [
    {
     "name": "stdout",
     "output_type": "stream",
     "text": [
      "----------------------\n",
      " Endline Credit Access"
     ]
    },
    {
     "data": {
      "text/html": [
       "<table class=\"dataframe\">\n",
       "<caption>A data.frame: 8 × 11</caption>\n",
       "<thead>\n",
       "\t<tr><th></th><th scope=col>output</th><th scope=col>el1_treatment_eff</th><th scope=col>el1_std</th><th scope=col>el1_pval</th><th scope=col>el1_sig</th><th scope=col>el1_obs</th><th scope=col>el2_treatment_eff</th><th scope=col>el2_std</th><th scope=col>el2_pval</th><th scope=col>el2_sig</th><th scope=col>el2_obs</th></tr>\n",
       "\t<tr><th></th><th scope=col>&lt;chr&gt;</th><th scope=col>&lt;chr&gt;</th><th scope=col>&lt;chr&gt;</th><th scope=col>&lt;chr&gt;</th><th scope=col>&lt;chr&gt;</th><th scope=col>&lt;chr&gt;</th><th scope=col>&lt;chr&gt;</th><th scope=col>&lt;chr&gt;</th><th scope=col>&lt;chr&gt;</th><th scope=col>&lt;chr&gt;</th><th scope=col>&lt;chr&gt;</th></tr>\n",
       "</thead>\n",
       "<tbody>\n",
       "\t<tr><th scope=row>1</th><td>spandana       </td><td>0.121 </td><td>0.021</td><td>1.3e-07</td><td>***</td><td>6811</td><td>0.06    </td><td>0.019 </td><td>0.0019</td><td>***</td><td>6142</td></tr>\n",
       "\t<tr><th scope=row>2</th><td>othermfi       </td><td>-0.012</td><td>0.023</td><td>0.607  </td><td>   </td><td>6657</td><td>-0.034  </td><td>0.026 </td><td>0.199 </td><td>   </td><td>6142</td></tr>\n",
       "\t<tr><th scope=row>3</th><td>anymfi         </td><td>0.078 </td><td>0.027</td><td>0.0054 </td><td>***</td><td>6811</td><td>0.0047  </td><td>0.029 </td><td>0.873 </td><td>   </td><td>6142</td></tr>\n",
       "\t<tr><th scope=row>4</th><td>anybank        </td><td>0.0027</td><td>0.011</td><td>0.813  </td><td>   </td><td>6811</td><td>0.00087 </td><td>0.0087</td><td>0.921 </td><td>   </td><td>6142</td></tr>\n",
       "\t<tr><th scope=row>5</th><td>anyinformal    </td><td>-0.052</td><td>0.021</td><td>0.016  </td><td>** </td><td>6811</td><td>-0.00028</td><td>0.018 </td><td>0.988 </td><td>   </td><td>6142</td></tr>\n",
       "\t<tr><th scope=row>6</th><td>anyloan        </td><td>-0.023</td><td>0.014</td><td>0.092  </td><td>*  </td><td>6862</td><td>0.00012 </td><td>0.01  </td><td>0.991 </td><td>   </td><td>6142</td></tr>\n",
       "\t<tr><th scope=row>7</th><td>everlate       </td><td>-0.057</td><td>0.026</td><td>0.033  </td><td>** </td><td>6475</td><td>0.0043  </td><td>0.022 </td><td>0.844 </td><td>   </td><td>6142</td></tr>\n",
       "\t<tr><th scope=row>8</th><td>mfi_loan_cycles</td><td>0.077 </td><td>0.042</td><td>0.067  </td><td>*  </td><td>6816</td><td>0.078   </td><td>0.068 </td><td>0.252 </td><td>   </td><td>5926</td></tr>\n",
       "</tbody>\n",
       "</table>\n"
      ],
      "text/latex": [
       "A data.frame: 8 × 11\n",
       "\\begin{tabular}{r|lllllllllll}\n",
       "  & output & el1\\_treatment\\_eff & el1\\_std & el1\\_pval & el1\\_sig & el1\\_obs & el2\\_treatment\\_eff & el2\\_std & el2\\_pval & el2\\_sig & el2\\_obs\\\\\n",
       "  & <chr> & <chr> & <chr> & <chr> & <chr> & <chr> & <chr> & <chr> & <chr> & <chr> & <chr>\\\\\n",
       "\\hline\n",
       "\t1 & spandana        & 0.121  & 0.021 & 1.3e-07 & *** & 6811 & 0.06     & 0.019  & 0.0019 & *** & 6142\\\\\n",
       "\t2 & othermfi        & -0.012 & 0.023 & 0.607   &     & 6657 & -0.034   & 0.026  & 0.199  &     & 6142\\\\\n",
       "\t3 & anymfi          & 0.078  & 0.027 & 0.0054  & *** & 6811 & 0.0047   & 0.029  & 0.873  &     & 6142\\\\\n",
       "\t4 & anybank         & 0.0027 & 0.011 & 0.813   &     & 6811 & 0.00087  & 0.0087 & 0.921  &     & 6142\\\\\n",
       "\t5 & anyinformal     & -0.052 & 0.021 & 0.016   & **  & 6811 & -0.00028 & 0.018  & 0.988  &     & 6142\\\\\n",
       "\t6 & anyloan         & -0.023 & 0.014 & 0.092   & *   & 6862 & 0.00012  & 0.01   & 0.991  &     & 6142\\\\\n",
       "\t7 & everlate        & -0.057 & 0.026 & 0.033   & **  & 6475 & 0.0043   & 0.022  & 0.844  &     & 6142\\\\\n",
       "\t8 & mfi\\_loan\\_cycles & 0.077  & 0.042 & 0.067   & *   & 6816 & 0.078    & 0.068  & 0.252  &     & 5926\\\\\n",
       "\\end{tabular}\n"
      ],
      "text/markdown": [
       "\n",
       "A data.frame: 8 × 11\n",
       "\n",
       "| <!--/--> | output &lt;chr&gt; | el1_treatment_eff &lt;chr&gt; | el1_std &lt;chr&gt; | el1_pval &lt;chr&gt; | el1_sig &lt;chr&gt; | el1_obs &lt;chr&gt; | el2_treatment_eff &lt;chr&gt; | el2_std &lt;chr&gt; | el2_pval &lt;chr&gt; | el2_sig &lt;chr&gt; | el2_obs &lt;chr&gt; |\n",
       "|---|---|---|---|---|---|---|---|---|---|---|---|\n",
       "| 1 | spandana        | 0.121  | 0.021 | 1.3e-07 | *** | 6811 | 0.06     | 0.019  | 0.0019 | *** | 6142 |\n",
       "| 2 | othermfi        | -0.012 | 0.023 | 0.607   | <!----> | 6657 | -0.034   | 0.026  | 0.199  | <!----> | 6142 |\n",
       "| 3 | anymfi          | 0.078  | 0.027 | 0.0054  | *** | 6811 | 0.0047   | 0.029  | 0.873  | <!----> | 6142 |\n",
       "| 4 | anybank         | 0.0027 | 0.011 | 0.813   | <!----> | 6811 | 0.00087  | 0.0087 | 0.921  | <!----> | 6142 |\n",
       "| 5 | anyinformal     | -0.052 | 0.021 | 0.016   | **  | 6811 | -0.00028 | 0.018  | 0.988  | <!----> | 6142 |\n",
       "| 6 | anyloan         | -0.023 | 0.014 | 0.092   | *   | 6862 | 0.00012  | 0.01   | 0.991  | <!----> | 6142 |\n",
       "| 7 | everlate        | -0.057 | 0.026 | 0.033   | **  | 6475 | 0.0043   | 0.022  | 0.844  | <!----> | 6142 |\n",
       "| 8 | mfi_loan_cycles | 0.077  | 0.042 | 0.067   | *   | 6816 | 0.078    | 0.068  | 0.252  | <!----> | 5926 |\n",
       "\n"
      ],
      "text/plain": [
       "  output          el1_treatment_eff el1_std el1_pval el1_sig el1_obs\n",
       "1 spandana        0.121             0.021   1.3e-07  ***     6811   \n",
       "2 othermfi        -0.012            0.023   0.607            6657   \n",
       "3 anymfi          0.078             0.027   0.0054   ***     6811   \n",
       "4 anybank         0.0027            0.011   0.813            6811   \n",
       "5 anyinformal     -0.052            0.021   0.016    **      6811   \n",
       "6 anyloan         -0.023            0.014   0.092    *       6862   \n",
       "7 everlate        -0.057            0.026   0.033    **      6475   \n",
       "8 mfi_loan_cycles 0.077             0.042   0.067    *       6816   \n",
       "  el2_treatment_eff el2_std el2_pval el2_sig el2_obs\n",
       "1 0.06              0.019   0.0019   ***     6142   \n",
       "2 -0.034            0.026   0.199            6142   \n",
       "3 0.0047            0.029   0.873            6142   \n",
       "4 0.00087           0.0087  0.921            6142   \n",
       "5 -0.00028          0.018   0.988            6142   \n",
       "6 0.00012           0.01    0.991            6142   \n",
       "7 0.0043            0.022   0.844            6142   \n",
       "8 0.078             0.068   0.252            5926   "
      ]
     },
     "metadata": {},
     "output_type": "display_data"
    },
    {
     "name": "stdout",
     "output_type": "stream",
     "text": [
      "----------------------\n",
      " Endline Loan Amounts"
     ]
    },
    {
     "data": {
      "text/html": [
       "<table class=\"dataframe\">\n",
       "<caption>A data.frame: 6 × 11</caption>\n",
       "<thead>\n",
       "\t<tr><th></th><th scope=col>output</th><th scope=col>el1_treatment_eff</th><th scope=col>el1_std</th><th scope=col>el1_pval</th><th scope=col>el1_sig</th><th scope=col>el1_obs</th><th scope=col>el2_treatment_eff</th><th scope=col>el2_std</th><th scope=col>el2_pval</th><th scope=col>el2_sig</th><th scope=col>el2_obs</th></tr>\n",
       "\t<tr><th></th><th scope=col>&lt;chr&gt;</th><th scope=col>&lt;chr&gt;</th><th scope=col>&lt;chr&gt;</th><th scope=col>&lt;chr&gt;</th><th scope=col>&lt;chr&gt;</th><th scope=col>&lt;chr&gt;</th><th scope=col>&lt;chr&gt;</th><th scope=col>&lt;chr&gt;</th><th scope=col>&lt;chr&gt;</th><th scope=col>&lt;chr&gt;</th><th scope=col>&lt;chr&gt;</th></tr>\n",
       "</thead>\n",
       "<tbody>\n",
       "\t<tr><th scope=row>1</th><td>spandana_amt</td><td>1251.18</td><td>253.38 </td><td>3.1e-06</td><td>***</td><td>6811</td><td>929.5   </td><td>297.01 </td><td>0.0023</td><td>***</td><td>6142</td></tr>\n",
       "\t<tr><th scope=row>2</th><td>othermfi_amt</td><td>-102.02</td><td>331.43 </td><td>0.759  </td><td>   </td><td>6708</td><td>-175.71 </td><td>613.71 </td><td>0.775 </td><td>   </td><td>6142</td></tr>\n",
       "\t<tr><th scope=row>3</th><td>anymfi_amt  </td><td>1198.27</td><td>448.34 </td><td>0.0088 </td><td>***</td><td>6811</td><td>783.13  </td><td>660.51 </td><td>0.238 </td><td>   </td><td>6142</td></tr>\n",
       "\t<tr><th scope=row>4</th><td>bank_amt    </td><td>247.26 </td><td>2095.85</td><td>0.906  </td><td>   </td><td>6811</td><td>-1070.92</td><td>1069.85</td><td>0.319 </td><td>   </td><td>6142</td></tr>\n",
       "\t<tr><th scope=row>5</th><td>informal_amt</td><td>-1618  </td><td>2574.89</td><td>0.531  </td><td>   </td><td>6811</td><td>-401.93 </td><td>3058.41</td><td>0.896 </td><td>   </td><td>6142</td></tr>\n",
       "\t<tr><th scope=row>6</th><td>anyloan_amt </td><td>2144.11</td><td>4578.39</td><td>0.641  </td><td>   </td><td>6862</td><td>1960.84 </td><td>6296.66</td><td>0.756 </td><td>   </td><td>6142</td></tr>\n",
       "</tbody>\n",
       "</table>\n"
      ],
      "text/latex": [
       "A data.frame: 6 × 11\n",
       "\\begin{tabular}{r|lllllllllll}\n",
       "  & output & el1\\_treatment\\_eff & el1\\_std & el1\\_pval & el1\\_sig & el1\\_obs & el2\\_treatment\\_eff & el2\\_std & el2\\_pval & el2\\_sig & el2\\_obs\\\\\n",
       "  & <chr> & <chr> & <chr> & <chr> & <chr> & <chr> & <chr> & <chr> & <chr> & <chr> & <chr>\\\\\n",
       "\\hline\n",
       "\t1 & spandana\\_amt & 1251.18 & 253.38  & 3.1e-06 & *** & 6811 & 929.5    & 297.01  & 0.0023 & *** & 6142\\\\\n",
       "\t2 & othermfi\\_amt & -102.02 & 331.43  & 0.759   &     & 6708 & -175.71  & 613.71  & 0.775  &     & 6142\\\\\n",
       "\t3 & anymfi\\_amt   & 1198.27 & 448.34  & 0.0088  & *** & 6811 & 783.13   & 660.51  & 0.238  &     & 6142\\\\\n",
       "\t4 & bank\\_amt     & 247.26  & 2095.85 & 0.906   &     & 6811 & -1070.92 & 1069.85 & 0.319  &     & 6142\\\\\n",
       "\t5 & informal\\_amt & -1618   & 2574.89 & 0.531   &     & 6811 & -401.93  & 3058.41 & 0.896  &     & 6142\\\\\n",
       "\t6 & anyloan\\_amt  & 2144.11 & 4578.39 & 0.641   &     & 6862 & 1960.84  & 6296.66 & 0.756  &     & 6142\\\\\n",
       "\\end{tabular}\n"
      ],
      "text/markdown": [
       "\n",
       "A data.frame: 6 × 11\n",
       "\n",
       "| <!--/--> | output &lt;chr&gt; | el1_treatment_eff &lt;chr&gt; | el1_std &lt;chr&gt; | el1_pval &lt;chr&gt; | el1_sig &lt;chr&gt; | el1_obs &lt;chr&gt; | el2_treatment_eff &lt;chr&gt; | el2_std &lt;chr&gt; | el2_pval &lt;chr&gt; | el2_sig &lt;chr&gt; | el2_obs &lt;chr&gt; |\n",
       "|---|---|---|---|---|---|---|---|---|---|---|---|\n",
       "| 1 | spandana_amt | 1251.18 | 253.38  | 3.1e-06 | *** | 6811 | 929.5    | 297.01  | 0.0023 | *** | 6142 |\n",
       "| 2 | othermfi_amt | -102.02 | 331.43  | 0.759   | <!----> | 6708 | -175.71  | 613.71  | 0.775  | <!----> | 6142 |\n",
       "| 3 | anymfi_amt   | 1198.27 | 448.34  | 0.0088  | *** | 6811 | 783.13   | 660.51  | 0.238  | <!----> | 6142 |\n",
       "| 4 | bank_amt     | 247.26  | 2095.85 | 0.906   | <!----> | 6811 | -1070.92 | 1069.85 | 0.319  | <!----> | 6142 |\n",
       "| 5 | informal_amt | -1618   | 2574.89 | 0.531   | <!----> | 6811 | -401.93  | 3058.41 | 0.896  | <!----> | 6142 |\n",
       "| 6 | anyloan_amt  | 2144.11 | 4578.39 | 0.641   | <!----> | 6862 | 1960.84  | 6296.66 | 0.756  | <!----> | 6142 |\n",
       "\n"
      ],
      "text/plain": [
       "  output       el1_treatment_eff el1_std el1_pval el1_sig el1_obs\n",
       "1 spandana_amt 1251.18           253.38  3.1e-06  ***     6811   \n",
       "2 othermfi_amt -102.02           331.43  0.759            6708   \n",
       "3 anymfi_amt   1198.27           448.34  0.0088   ***     6811   \n",
       "4 bank_amt     247.26            2095.85 0.906            6811   \n",
       "5 informal_amt -1618             2574.89 0.531            6811   \n",
       "6 anyloan_amt  2144.11           4578.39 0.641            6862   \n",
       "  el2_treatment_eff el2_std el2_pval el2_sig el2_obs\n",
       "1 929.5             297.01  0.0023   ***     6142   \n",
       "2 -175.71           613.71  0.775            6142   \n",
       "3 783.13            660.51  0.238            6142   \n",
       "4 -1070.92          1069.85 0.319            6142   \n",
       "5 -401.93           3058.41 0.896            6142   \n",
       "6 1960.84           6296.66 0.756            6142   "
      ]
     },
     "metadata": {},
     "output_type": "display_data"
    }
   ],
   "source": [
    "cat(\"----------------------\\n Endline Credit Access\")\n",
    "panel_cols <- c(\"spandana\", \"othermfi\", \"anymfi\", \"anybank\", \"anyinformal\", \"anyloan\", \"everlate\", \"mfi_loan_cycles\")\n",
    "endline_regressions(panel_cols)\n",
    "\n",
    "cat(\"----------------------\\n Endline Loan Amounts\")\n",
    "panel_cols <- c(\"spandana_amt\", \"othermfi_amt\", \"anymfi_amt\", \"bank_amt\", \"informal_amt\", \"anyloan_amt\")\n",
    "endline_regressions(panel_cols)"
   ]
  },
  {
   "cell_type": "code",
   "execution_count": 18,
   "id": "48836b32",
   "metadata": {},
   "outputs": [
    {
     "name": "stdout",
     "output_type": "stream",
     "text": [
      "----------------------\n",
      " Endline Business Activities"
     ]
    },
    {
     "data": {
      "text/html": [
       "<table class=\"dataframe\">\n",
       "<caption>A data.frame: 5 × 11</caption>\n",
       "<thead>\n",
       "\t<tr><th></th><th scope=col>output</th><th scope=col>el1_treatment_eff</th><th scope=col>el1_std</th><th scope=col>el1_pval</th><th scope=col>el1_sig</th><th scope=col>el1_obs</th><th scope=col>el2_treatment_eff</th><th scope=col>el2_std</th><th scope=col>el2_pval</th><th scope=col>el2_sig</th><th scope=col>el2_obs</th></tr>\n",
       "\t<tr><th></th><th scope=col>&lt;chr&gt;</th><th scope=col>&lt;chr&gt;</th><th scope=col>&lt;chr&gt;</th><th scope=col>&lt;chr&gt;</th><th scope=col>&lt;chr&gt;</th><th scope=col>&lt;chr&gt;</th><th scope=col>&lt;chr&gt;</th><th scope=col>&lt;chr&gt;</th><th scope=col>&lt;chr&gt;</th><th scope=col>&lt;chr&gt;</th><th scope=col>&lt;chr&gt;</th></tr>\n",
       "</thead>\n",
       "<tbody>\n",
       "\t<tr><th scope=row>1</th><td>bizassets    </td><td>614.02</td><td>390.54 </td><td>0.119</td><td> </td><td>6800</td><td>1160.23</td><td>536.76</td><td>0.033</td><td>**</td><td>6142</td></tr>\n",
       "\t<tr><th scope=row>2</th><td>bizinvestment</td><td>384.69</td><td>209.74 </td><td>0.07 </td><td>*</td><td>6800</td><td>-121.53</td><td>203.54</td><td>0.552</td><td>  </td><td>6142</td></tr>\n",
       "\t<tr><th scope=row>3</th><td>bizexpense   </td><td>216.06</td><td>1058.63</td><td>0.839</td><td> </td><td>6685</td><td>-542.85</td><td>540.03</td><td>0.317</td><td>  </td><td>6116</td></tr>\n",
       "\t<tr><th scope=row>4</th><td>bizprofit    </td><td>377.28</td><td>317.87 </td><td>0.238</td><td> </td><td>6239</td><td>540.87 </td><td>365.75</td><td>0.142</td><td>  </td><td>6090</td></tr>\n",
       "\t<tr><th scope=row>5</th><td>any_biz      </td><td>0.0054</td><td>0.022  </td><td>0.805</td><td> </td><td>6810</td><td>0.021  </td><td>0.023 </td><td>0.374</td><td>  </td><td>6142</td></tr>\n",
       "</tbody>\n",
       "</table>\n"
      ],
      "text/latex": [
       "A data.frame: 5 × 11\n",
       "\\begin{tabular}{r|lllllllllll}\n",
       "  & output & el1\\_treatment\\_eff & el1\\_std & el1\\_pval & el1\\_sig & el1\\_obs & el2\\_treatment\\_eff & el2\\_std & el2\\_pval & el2\\_sig & el2\\_obs\\\\\n",
       "  & <chr> & <chr> & <chr> & <chr> & <chr> & <chr> & <chr> & <chr> & <chr> & <chr> & <chr>\\\\\n",
       "\\hline\n",
       "\t1 & bizassets     & 614.02 & 390.54  & 0.119 &   & 6800 & 1160.23 & 536.76 & 0.033 & ** & 6142\\\\\n",
       "\t2 & bizinvestment & 384.69 & 209.74  & 0.07  & * & 6800 & -121.53 & 203.54 & 0.552 &    & 6142\\\\\n",
       "\t3 & bizexpense    & 216.06 & 1058.63 & 0.839 &   & 6685 & -542.85 & 540.03 & 0.317 &    & 6116\\\\\n",
       "\t4 & bizprofit     & 377.28 & 317.87  & 0.238 &   & 6239 & 540.87  & 365.75 & 0.142 &    & 6090\\\\\n",
       "\t5 & any\\_biz       & 0.0054 & 0.022   & 0.805 &   & 6810 & 0.021   & 0.023  & 0.374 &    & 6142\\\\\n",
       "\\end{tabular}\n"
      ],
      "text/markdown": [
       "\n",
       "A data.frame: 5 × 11\n",
       "\n",
       "| <!--/--> | output &lt;chr&gt; | el1_treatment_eff &lt;chr&gt; | el1_std &lt;chr&gt; | el1_pval &lt;chr&gt; | el1_sig &lt;chr&gt; | el1_obs &lt;chr&gt; | el2_treatment_eff &lt;chr&gt; | el2_std &lt;chr&gt; | el2_pval &lt;chr&gt; | el2_sig &lt;chr&gt; | el2_obs &lt;chr&gt; |\n",
       "|---|---|---|---|---|---|---|---|---|---|---|---|\n",
       "| 1 | bizassets     | 614.02 | 390.54  | 0.119 | <!----> | 6800 | 1160.23 | 536.76 | 0.033 | ** | 6142 |\n",
       "| 2 | bizinvestment | 384.69 | 209.74  | 0.07  | * | 6800 | -121.53 | 203.54 | 0.552 | <!----> | 6142 |\n",
       "| 3 | bizexpense    | 216.06 | 1058.63 | 0.839 | <!----> | 6685 | -542.85 | 540.03 | 0.317 | <!----> | 6116 |\n",
       "| 4 | bizprofit     | 377.28 | 317.87  | 0.238 | <!----> | 6239 | 540.87  | 365.75 | 0.142 | <!----> | 6090 |\n",
       "| 5 | any_biz       | 0.0054 | 0.022   | 0.805 | <!----> | 6810 | 0.021   | 0.023  | 0.374 | <!----> | 6142 |\n",
       "\n"
      ],
      "text/plain": [
       "  output        el1_treatment_eff el1_std el1_pval el1_sig el1_obs\n",
       "1 bizassets     614.02            390.54  0.119            6800   \n",
       "2 bizinvestment 384.69            209.74  0.07     *       6800   \n",
       "3 bizexpense    216.06            1058.63 0.839            6685   \n",
       "4 bizprofit     377.28            317.87  0.238            6239   \n",
       "5 any_biz       0.0054            0.022   0.805            6810   \n",
       "  el2_treatment_eff el2_std el2_pval el2_sig el2_obs\n",
       "1 1160.23           536.76  0.033    **      6142   \n",
       "2 -121.53           203.54  0.552            6142   \n",
       "3 -542.85           540.03  0.317            6116   \n",
       "4 540.87            365.75  0.142            6090   \n",
       "5 0.021             0.023   0.374            6142   "
      ]
     },
     "metadata": {},
     "output_type": "display_data"
    }
   ],
   "source": [
    "cat(\"----------------------\\n Endline Business Activities\")\n",
    "panel_cols <- c(\"bizassets\", \"bizinvestment\", \"bizexpense\", \"bizprofit\", \"any_biz\")\n",
    "endline_regressions(panel_cols)\n"
   ]
  },
  {
   "cell_type": "markdown",
   "id": "e500793a",
   "metadata": {},
   "source": [
    "___________"
   ]
  },
  {
   "cell_type": "markdown",
   "id": "35245436",
   "metadata": {},
   "source": [
    "# Hetrogeneity Analysis"
   ]
  },
  {
   "cell_type": "code",
   "execution_count": 19,
   "id": "a5e751f0",
   "metadata": {},
   "outputs": [
    {
     "data": {
      "text/plain": [
       "informal_amt_1 ~ treatment + area_pop_base + area_business_total_base + \n",
       "    area_exp_pc_mean_base + area_literate_head_base + area_literate_base"
      ]
     },
     "metadata": {},
     "output_type": "display_data"
    },
    {
     "name": "stdout",
     "output_type": "stream",
     "text": [
      "[1] \"-------------------------------------\"\n"
     ]
    }
   ],
   "source": [
    "output_name <- \"informal_amt_1\"\n",
    "\n",
    "fmla <- paste0(output_name, \" ~ treatment + \")\n",
    "fmla <- as.formula(paste(fmla, paste(control_variables, collapse= \"+\")))\n",
    "\n",
    "fmla\n",
    "print(\"-------------------------------------\")\n",
    "\n",
    "relevant_data <- endline_data[!is.na(endline_data[[output_name]]), ] "
   ]
  },
  {
   "cell_type": "markdown",
   "id": "1233685e",
   "metadata": {},
   "source": [
    "Lets assume a uniform treatment effect and see the differences in CDF of treatment and control group"
   ]
  },
  {
   "cell_type": "code",
   "execution_count": 20,
   "id": "12bdb380",
   "metadata": {},
   "outputs": [
    {
     "data": {
      "image/png": "[encoded data removed]",
      "text/plain": [
       "Plot with title \"ecdf(relevant_data[relevant_data$treatment == 1, ]$y_minus_x)\""
      ]
     },
     "metadata": {
      "image/png": {
       "height": 600,
       "width": 1200
      }
     },
     "output_type": "display_data"
    }
   ],
   "source": [
    "lm_model <- lm_robust(fmla, se_type = 'stata', cluster = areaid, data = relevant_data, weights=relevant_data$w1)\n",
    "\n",
    "residuals <- relevant_data[[output_name]] - unname(lm_model$fitted.values)\n",
    "relevant_data$y_minus_x <- residuals + unname(lm_model$coefficients[\"treatment\"])*relevant_data$treatment\n",
    "\n",
    "cdf_treated <- ecdf(relevant_data[relevant_data$treatment == 1, ]$y_minus_x )\n",
    "cdf_control <- ecdf(relevant_data[relevant_data$treatment == 0, ]$y_minus_x )\n",
    "\n",
    "options(repr.plot.width=20, repr.plot.height=10)\n",
    "\n",
    "plot(cdf_treated, col = \"red\", xlim = c(-50000, 70000))\n",
    "lines(cdf_control, col = \"blue\")\n",
    "\n",
    "options(repr.plot.width=8, repr.plot.height=6)"
   ]
  },
  {
   "cell_type": "markdown",
   "id": "81f9aa54",
   "metadata": {},
   "source": [
    "Strongly indicates that there is hetrogeneity in the treatment effect on informal borrowing.\n",
    "\n",
    "Lets plot the treatment effect by quantiles."
   ]
  },
  {
   "cell_type": "code",
   "execution_count": 21,
   "id": "b82966cd",
   "metadata": {},
   "outputs": [
    {
     "data": {
      "image/png": "[encoded data removed]",
      "text/plain": [
       "plot without title"
      ]
     },
     "metadata": {
      "image/png": {
       "height": 360,
       "width": 480
      }
     },
     "output_type": "display_data"
    }
   ],
   "source": [
    "quantile_list <- seq(0.05, 0.95, by = 0.05)\n",
    "qte_model <- ci.qtet(fmla, data=relevant_data, w = relevant_data$w1, probs=quantile_list,  se=T, iters=20)\n",
    "\n",
    "quantile_trt_eff <- qte_model$qte \n",
    "\n",
    "\n",
    "plot(quantile_list,quantile_trt_eff, type = \"b\", xlim = c(0,1), ylim = c(-10000, 10000), col = \"red\")\n",
    "lines(c(0,1), c(0,0))\n"
   ]
  },
  {
   "cell_type": "code",
   "execution_count": null,
   "id": "e012ea4e",
   "metadata": {},
   "outputs": [],
   "source": []
  }
 ],
 "metadata": {
  "kernelspec": {
   "display_name": "R",
   "language": "R",
   "name": "ir"
  },
  "language_info": {
   "codemirror_mode": "r",
   "file_extension": ".r",
   "mimetype": "text/x-r-source",
   "name": "R",
   "pygments_lexer": "r",
   "version": "4.2.1"
  }
 },
 "nbformat": 4,
 "nbformat_minor": 5
}
